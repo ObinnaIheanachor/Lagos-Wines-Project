{
 "cells": [
  {
   "cell_type": "code",
   "execution_count": 2,
   "metadata": {
    "colab": {},
    "colab_type": "code",
    "id": "CA769aHqX-tn"
   },
   "outputs": [],
   "source": [
    "#Import tools\n",
    "\n",
    "import requests\n",
    "from requests import get\n",
    "from bs4 import BeautifulSoup\n",
    "import pandas as pd\n",
    "import numpy as np\n",
    "\n",
    "from time import sleep\n",
    "from random import randint"
   ]
  },
  {
   "cell_type": "code",
   "execution_count": null,
   "metadata": {},
   "outputs": [],
   "source": [
    "https://www.jumia.com.ng/champagne-sparkling-wine/?page=2"
   ]
  },
  {
   "cell_type": "code",
   "execution_count": 3,
   "metadata": {
    "colab": {
     "base_uri": "https://localhost:8080/",
     "height": 34
    },
    "colab_type": "code",
    "id": "txXg7QN1Ym-F",
    "outputId": "7ed05d6e-c102-4c5b-f2bd-b254cda17a79"
   },
   "outputs": [
    {
     "data": {
      "text/plain": [
       "array([1, 2])"
      ]
     },
     "execution_count": 3,
     "metadata": {},
     "output_type": "execute_result"
    }
   ],
   "source": [
    "pages = np.arange(1, 3, 1)\n",
    "pages"
   ]
  },
  {
   "cell_type": "code",
   "execution_count": 4,
   "metadata": {
    "colab": {},
    "colab_type": "code",
    "id": "sRy1444walLx"
   },
   "outputs": [],
   "source": [
    "#initialize empty lists where we'll store our data\n",
    "images = []\n",
    "names = []\n",
    "price = []"
   ]
  },
  {
   "cell_type": "code",
   "execution_count": 5,
   "metadata": {
    "colab": {},
    "colab_type": "code",
    "id": "oxc2Vti8mD2X"
   },
   "outputs": [],
   "source": [
    "\n",
    "for page in pages: \n",
    "\n",
    "  page = requests.get(\"https://www.jumia.com.ng/champagne-sparkling-wine/?page=\" + str(page))\n",
    "\n",
    "  soup = BeautifulSoup(page.text, 'html.parser')\n",
    "  wine_div = soup.find_all('div', class_= \"sku -gallery\")\n",
    "  \n",
    "  sleep(randint(2,10))\n",
    "\n",
    "  for container in wine_div:\n",
    "      name = container.h2.find(\"span\", class_=\"name\").text\n",
    "      names.append(name)\n",
    "\n",
    "      image = container.a.find(\"div\", class_=\"image-wrapper default-state\").img[\"data-src\"]\n",
    "      images.append(image)\n",
    "\n",
    "      cost = container.find(\"span\", class_=\"price-box ri\").text\n",
    "      price.append(cost)\n",
    "\n"
   ]
  },
  {
   "cell_type": "code",
   "execution_count": 5,
   "metadata": {},
   "outputs": [
    {
     "data": {
      "text/plain": [
       "154"
      ]
     },
     "execution_count": 5,
     "metadata": {},
     "output_type": "execute_result"
    }
   ],
   "source": [
    "len(images)"
   ]
  },
  {
   "cell_type": "code",
   "execution_count": 6,
   "metadata": {
    "colab": {
     "base_uri": "https://localhost:8080/",
     "height": 68
    },
    "colab_type": "code",
    "id": "kZ2T-NJTqRUN",
    "outputId": "f11d6abe-caea-4ccd-b14c-b0d3557bcfeb"
   },
   "outputs": [
    {
     "name": "stdout",
     "output_type": "stream",
     "text": [
      "56\n",
      "56\n",
      "56\n"
     ]
    }
   ],
   "source": [
    "print(len(names))\n",
    "print(len(images))\n",
    "print(len(price))"
   ]
  },
  {
   "cell_type": "code",
   "execution_count": 10,
   "metadata": {},
   "outputs": [
    {
     "data": {
      "text/html": [
       "<div>\n",
       "<style scoped>\n",
       "    .dataframe tbody tr th:only-of-type {\n",
       "        vertical-align: middle;\n",
       "    }\n",
       "\n",
       "    .dataframe tbody tr th {\n",
       "        vertical-align: top;\n",
       "    }\n",
       "\n",
       "    .dataframe thead th {\n",
       "        text-align: right;\n",
       "    }\n",
       "</style>\n",
       "<table border=\"1\" class=\"dataframe\">\n",
       "  <thead>\n",
       "    <tr style=\"text-align: right;\">\n",
       "      <th></th>\n",
       "      <th>Name</th>\n",
       "      <th>Images</th>\n",
       "      <th>Price</th>\n",
       "    </tr>\n",
       "  </thead>\n",
       "  <tbody>\n",
       "    <tr>\n",
       "      <th>48</th>\n",
       "      <td>CHAMPAGE ELITE ANDRE ROSE 75CL BY 6</td>\n",
       "      <td>https://ng.jumia.is/6FTvgUHTrUKD8yEDttK2NXCupc...</td>\n",
       "      <td>₦ 19,000  ₦ 25,000</td>\n",
       "    </tr>\n",
       "    <tr>\n",
       "      <th>49</th>\n",
       "      <td>HENNESSY VS CONGNAC 700ML</td>\n",
       "      <td>https://ng.jumia.is/xE3EarrfEBLpyV9tAIyemWrpUU...</td>\n",
       "      <td>₦ 15,000  ₦ 21,000</td>\n",
       "    </tr>\n",
       "    <tr>\n",
       "      <th>50</th>\n",
       "      <td>MATEUS ROSE 75CL BY 1</td>\n",
       "      <td>https://ng.jumia.is/lJ_NQ1iahLhjp1S_15XTyD0zFn...</td>\n",
       "      <td>₦ 4,800  ₦ 12,000</td>\n",
       "    </tr>\n",
       "    <tr>\n",
       "      <th>51</th>\n",
       "      <td>Dom Preignon Champagne 750ml Vintage 2006</td>\n",
       "      <td>https://ng.jumia.is/q8SKG8-1ph8obTi0zHjlP5yCZm...</td>\n",
       "      <td>₦ 60,550</td>\n",
       "    </tr>\n",
       "    <tr>\n",
       "      <th>52</th>\n",
       "      <td>VEUVE DU VERNAY ICE ROSE 75CL</td>\n",
       "      <td>https://ng.jumia.is/dlT3U_aoXD2Pqcnp9OVNUZtMzb...</td>\n",
       "      <td>₦ 5,000  ₦ 7,000</td>\n",
       "    </tr>\n",
       "    <tr>\n",
       "      <th>53</th>\n",
       "      <td>Sparkling Non-alcoholic Wine</td>\n",
       "      <td>https://ng.jumia.is/qTQJxgry73rYkO1hxZlMSFwoBi...</td>\n",
       "      <td>₦ 2,165  ₦ 4,500</td>\n",
       "    </tr>\n",
       "    <tr>\n",
       "      <th>54</th>\n",
       "      <td>Sparkling Grape Wine -750ml×3</td>\n",
       "      <td>https://ng.jumia.is/QPJTrtg03yYUdYORxXQYct0tHW...</td>\n",
       "      <td>₦ 7,900</td>\n",
       "    </tr>\n",
       "    <tr>\n",
       "      <th>55</th>\n",
       "      <td>Rose Sparkling Wine</td>\n",
       "      <td>https://ng.jumia.is/B4osoC-dBeiSUiYPi9VILux0mg...</td>\n",
       "      <td>₦ 24,750</td>\n",
       "    </tr>\n",
       "  </tbody>\n",
       "</table>\n",
       "</div>"
      ],
      "text/plain": [
       "                                         Name  \\\n",
       "48        CHAMPAGE ELITE ANDRE ROSE 75CL BY 6   \n",
       "49                  HENNESSY VS CONGNAC 700ML   \n",
       "50                      MATEUS ROSE 75CL BY 1   \n",
       "51  Dom Preignon Champagne 750ml Vintage 2006   \n",
       "52              VEUVE DU VERNAY ICE ROSE 75CL   \n",
       "53               Sparkling Non-alcoholic Wine   \n",
       "54              Sparkling Grape Wine -750ml×3   \n",
       "55                        Rose Sparkling Wine   \n",
       "\n",
       "                                               Images                  Price  \n",
       "48  https://ng.jumia.is/6FTvgUHTrUKD8yEDttK2NXCupc...   ₦ 19,000  ₦ 25,000    \n",
       "49  https://ng.jumia.is/xE3EarrfEBLpyV9tAIyemWrpUU...   ₦ 15,000  ₦ 21,000    \n",
       "50  https://ng.jumia.is/lJ_NQ1iahLhjp1S_15XTyD0zFn...    ₦ 4,800  ₦ 12,000    \n",
       "51  https://ng.jumia.is/q8SKG8-1ph8obTi0zHjlP5yCZm...           ₦ 60,550      \n",
       "52  https://ng.jumia.is/dlT3U_aoXD2Pqcnp9OVNUZtMzb...     ₦ 5,000  ₦ 7,000    \n",
       "53  https://ng.jumia.is/qTQJxgry73rYkO1hxZlMSFwoBi...     ₦ 2,165  ₦ 4,500    \n",
       "54  https://ng.jumia.is/QPJTrtg03yYUdYORxXQYct0tHW...            ₦ 7,900      \n",
       "55  https://ng.jumia.is/B4osoC-dBeiSUiYPi9VILux0mg...           ₦ 24,750      "
      ]
     },
     "execution_count": 10,
     "metadata": {},
     "output_type": "execute_result"
    }
   ],
   "source": [
    "jumia_df1 = pd.DataFrame({\"Name\":names, \"Images\": images, \"Price\": price})\n",
    "jumia_df1.tail(8)"
   ]
  },
  {
   "cell_type": "code",
   "execution_count": 11,
   "metadata": {},
   "outputs": [
    {
     "data": {
      "text/html": [
       "<div>\n",
       "<style scoped>\n",
       "    .dataframe tbody tr th:only-of-type {\n",
       "        vertical-align: middle;\n",
       "    }\n",
       "\n",
       "    .dataframe tbody tr th {\n",
       "        vertical-align: top;\n",
       "    }\n",
       "\n",
       "    .dataframe thead th {\n",
       "        text-align: right;\n",
       "    }\n",
       "</style>\n",
       "<table border=\"1\" class=\"dataframe\">\n",
       "  <thead>\n",
       "    <tr style=\"text-align: right;\">\n",
       "      <th></th>\n",
       "      <th>Name</th>\n",
       "      <th>Images</th>\n",
       "      <th>Price</th>\n",
       "    </tr>\n",
       "  </thead>\n",
       "  <tbody>\n",
       "    <tr>\n",
       "      <th>0</th>\n",
       "      <td>Marques &amp; Gaiety Red Wine -750 ML</td>\n",
       "      <td>https://ng.jumia.is/vdeGGDsTotUSZQcda4QVomq2P1...</td>\n",
       "      <td>₦ 2,300</td>\n",
       "    </tr>\n",
       "    <tr>\n",
       "      <th>1</th>\n",
       "      <td>Health Wine Vintage Liquor</td>\n",
       "      <td>https://ng.jumia.is/Y2HEfXEE0ydXbutfnWXtyc1Kvj...</td>\n",
       "      <td>₦ 9,500</td>\n",
       "    </tr>\n",
       "    <tr>\n",
       "      <th>2</th>\n",
       "      <td>Eva Non - Alcoholic Sparkling Grape Juice - 75...</td>\n",
       "      <td>https://ng.jumia.is/HdJlZh9vaGURKwbblJG_o1M5AT...</td>\n",
       "      <td>₦ 7,000</td>\n",
       "    </tr>\n",
       "    <tr>\n",
       "      <th>3</th>\n",
       "      <td>Black Doktor Red Dessert Wine (Moldovan- 750ml...</td>\n",
       "      <td>https://ng.jumia.is/jg7KPY_eUDjkqZxJqtG2d5xC3c...</td>\n",
       "      <td>₦ 4,500</td>\n",
       "    </tr>\n",
       "    <tr>\n",
       "      <th>4</th>\n",
       "      <td>Sparkling Red Grape Wine - 750ml X12</td>\n",
       "      <td>https://ng.jumia.is/Q1Uy4blGDun1poXFXrWTIvVqRY...</td>\n",
       "      <td>₦ 17,800</td>\n",
       "    </tr>\n",
       "  </tbody>\n",
       "</table>\n",
       "</div>"
      ],
      "text/plain": [
       "                                                Name  \\\n",
       "0                  Marques & Gaiety Red Wine -750 ML   \n",
       "1                         Health Wine Vintage Liquor   \n",
       "2  Eva Non - Alcoholic Sparkling Grape Juice - 75...   \n",
       "3  Black Doktor Red Dessert Wine (Moldovan- 750ml...   \n",
       "4               Sparkling Red Grape Wine - 750ml X12   \n",
       "\n",
       "                                              Images          Price  \n",
       "0  https://ng.jumia.is/vdeGGDsTotUSZQcda4QVomq2P1...    ₦ 2,300      \n",
       "1  https://ng.jumia.is/Y2HEfXEE0ydXbutfnWXtyc1Kvj...    ₦ 9,500      \n",
       "2  https://ng.jumia.is/HdJlZh9vaGURKwbblJG_o1M5AT...    ₦ 7,000      \n",
       "3  https://ng.jumia.is/jg7KPY_eUDjkqZxJqtG2d5xC3c...    ₦ 4,500      \n",
       "4  https://ng.jumia.is/Q1Uy4blGDun1poXFXrWTIvVqRY...   ₦ 17,800      "
      ]
     },
     "execution_count": 11,
     "metadata": {},
     "output_type": "execute_result"
    }
   ],
   "source": [
    "jumia_df2 = pd.read_csv(\"Jumia.csv\")\n",
    "jumia_df2.head()"
   ]
  },
  {
   "cell_type": "code",
   "execution_count": 12,
   "metadata": {},
   "outputs": [
    {
     "data": {
      "text/plain": [
       "(154, 3)"
      ]
     },
     "execution_count": 12,
     "metadata": {},
     "output_type": "execute_result"
    }
   ],
   "source": [
    "jumia_df2.shape"
   ]
  },
  {
   "cell_type": "code",
   "execution_count": 13,
   "metadata": {},
   "outputs": [
    {
     "data": {
      "text/plain": [
       "(210, 3)"
      ]
     },
     "execution_count": 13,
     "metadata": {},
     "output_type": "execute_result"
    }
   ],
   "source": [
    "jumia_df = jumia_df2.append(jumia_df1)\n",
    "jumia_df.shape\n"
   ]
  },
  {
   "cell_type": "code",
   "execution_count": 14,
   "metadata": {},
   "outputs": [
    {
     "data": {
      "text/plain": [
       "Name      193\n",
       "Images    210\n",
       "Price     141\n",
       "dtype: int64"
      ]
     },
     "execution_count": 14,
     "metadata": {},
     "output_type": "execute_result"
    }
   ],
   "source": [
    "jumia_df.nunique()"
   ]
  },
  {
   "cell_type": "code",
   "execution_count": 15,
   "metadata": {},
   "outputs": [
    {
     "data": {
      "text/plain": [
       "(210, 3)"
      ]
     },
     "execution_count": 15,
     "metadata": {},
     "output_type": "execute_result"
    }
   ],
   "source": [
    "jumia_df.drop_duplicates(inplace=True)\n",
    "jumia_df.shape"
   ]
  },
  {
   "cell_type": "code",
   "execution_count": null,
   "metadata": {},
   "outputs": [],
   "source": []
  },
  {
   "cell_type": "code",
   "execution_count": 16,
   "metadata": {
    "colab": {
     "base_uri": "https://localhost:8080/",
     "height": 85
    },
    "colab_type": "code",
    "id": "LD9FNqWaD_aL",
    "outputId": "34233074-5887-4118-827d-4f2c6a9edd60"
   },
   "outputs": [
    {
     "data": {
      "text/plain": [
       "Name      0\n",
       "Images    0\n",
       "Price     0\n",
       "dtype: int64"
      ]
     },
     "execution_count": 16,
     "metadata": {},
     "output_type": "execute_result"
    }
   ],
   "source": [
    "jumia_df.isnull().sum()"
   ]
  },
  {
   "cell_type": "code",
   "execution_count": 17,
   "metadata": {
    "colab": {},
    "colab_type": "code",
    "id": "RnRTMmhbEixS"
   },
   "outputs": [],
   "source": [
    "jumia_df.to_csv(\"Jumia.csv\", index=False)"
   ]
  },
  {
   "cell_type": "markdown",
   "metadata": {
    "colab_type": "text",
    "id": "luA9UjpXfZJ_"
   },
   "source": []
  }
 ],
 "metadata": {
  "colab": {
   "name": "WineHouseNigeria.ipynb",
   "provenance": []
  },
  "hide_input": false,
  "kernelspec": {
   "display_name": "scrapy",
   "language": "python",
   "name": "scrapy"
  },
  "language_info": {
   "codemirror_mode": {
    "name": "ipython",
    "version": 3
   },
   "file_extension": ".py",
   "mimetype": "text/x-python",
   "name": "python",
   "nbconvert_exporter": "python",
   "pygments_lexer": "ipython3",
   "version": "3.7.6"
  },
  "toc": {
   "base_numbering": 1,
   "nav_menu": {},
   "number_sections": true,
   "sideBar": true,
   "skip_h1_title": false,
   "title_cell": "Table of Contents",
   "title_sidebar": "Contents",
   "toc_cell": false,
   "toc_position": {},
   "toc_section_display": true,
   "toc_window_display": false
  }
 },
 "nbformat": 4,
 "nbformat_minor": 1
}
