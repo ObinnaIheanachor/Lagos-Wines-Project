{
 "cells": [
  {
   "cell_type": "code",
   "execution_count": 1,
   "metadata": {
    "colab": {},
    "colab_type": "code",
    "id": "CA769aHqX-tn"
   },
   "outputs": [],
   "source": [
    "#Import tools\n",
    "\n",
    "import requests\n",
    "from requests import get\n",
    "from bs4 import BeautifulSoup\n",
    "import pandas as pd\n",
    "import numpy as np\n",
    "\n",
    "from time import sleep\n",
    "from random import randint"
   ]
  },
  {
   "cell_type": "code",
   "execution_count": 2,
   "metadata": {
    "colab": {
     "base_uri": "https://localhost:8080/",
     "height": 34
    },
    "colab_type": "code",
    "id": "txXg7QN1Ym-F",
    "outputId": "7ed05d6e-c102-4c5b-f2bd-b254cda17a79"
   },
   "outputs": [
    {
     "data": {
      "text/plain": [
       "array([1, 2, 3, 4, 5])"
      ]
     },
     "execution_count": 2,
     "metadata": {},
     "output_type": "execute_result"
    }
   ],
   "source": [
    "pages = np.arange(1, 6, 1)\n",
    "pages"
   ]
  },
  {
   "cell_type": "code",
   "execution_count": 3,
   "metadata": {
    "colab": {},
    "colab_type": "code",
    "id": "sRy1444walLx"
   },
   "outputs": [],
   "source": [
    "#initialize empty lists where we'll store our data\n",
    "images = []\n",
    "names = []\n",
    "price = []"
   ]
  },
  {
   "cell_type": "code",
   "execution_count": 4,
   "metadata": {
    "colab": {},
    "colab_type": "code",
    "id": "oxc2Vti8mD2X"
   },
   "outputs": [],
   "source": [
    "\n",
    "for page in pages: \n",
    "\n",
    "  page = requests.get(\"https://www.jumia.com.ng/wines/?page=\" + str(page))\n",
    "\n",
    "  soup = BeautifulSoup(page.text, 'html.parser')\n",
    "  wine_div = soup.find_all('div', class_= \"sku -gallery\")\n",
    "  \n",
    "  sleep(randint(2,10))\n",
    "\n",
    "  for container in wine_div:\n",
    "      name = container.h2.find(\"span\", class_=\"name\").text\n",
    "      names.append(name)\n",
    "\n",
    "      image = container.a.find(\"div\", class_=\"image-wrapper default-state\").img[\"data-src\"]\n",
    "      images.append(image)\n",
    "\n",
    "      cost = container.find(\"span\", class_=\"price-box ri\").text\n",
    "      price.append(cost)\n",
    "\n"
   ]
  },
  {
   "cell_type": "code",
   "execution_count": 5,
   "metadata": {},
   "outputs": [
    {
     "data": {
      "text/plain": [
       "154"
      ]
     },
     "execution_count": 5,
     "metadata": {},
     "output_type": "execute_result"
    }
   ],
   "source": [
    "len(images)"
   ]
  },
  {
   "cell_type": "code",
   "execution_count": 6,
   "metadata": {
    "colab": {
     "base_uri": "https://localhost:8080/",
     "height": 68
    },
    "colab_type": "code",
    "id": "kZ2T-NJTqRUN",
    "outputId": "f11d6abe-caea-4ccd-b14c-b0d3557bcfeb"
   },
   "outputs": [
    {
     "name": "stdout",
     "output_type": "stream",
     "text": [
      "154\n",
      "154\n",
      "154\n"
     ]
    }
   ],
   "source": [
    "print(len(names))\n",
    "print(len(images))\n",
    "print(len(price))"
   ]
  },
  {
   "cell_type": "code",
   "execution_count": 7,
   "metadata": {},
   "outputs": [
    {
     "data": {
      "text/plain": [
       "['Marques & Gaiety Red Wine -750 ML',\n",
       " 'Health Wine Vintage Liquor',\n",
       " 'Eva Non - Alcoholic Sparkling Grape Juice - 750ml X 6pcs',\n",
       " 'Black Doktor Red Dessert Wine (Moldovan- 750ml (16% Acl)',\n",
       " 'Sparkling Red Grape Wine - 750ml X12',\n",
       " 'PASTORAL VIN LICOROS ROSU Red Wine - 750ml',\n",
       " 'Crisp & Fruity Rosé  Wine 75CL X 6',\n",
       " 'Vanilla Vodka 75 Cl X 12 - Carton',\n",
       " 'Citron Vodka 75 Cl X 12 -Carton',\n",
       " 'Clementine Vodka 75 Cl X 12 - Carton',\n",
       " 'Rose Wine (Castillo De Espana)Tempranillo Garnacha 75Cl X 3',\n",
       " 'Cherry Vodka 75 Cl X 12 - Carton',\n",
       " 'Rose Wine (Castillo De Espana)Tempranillo Garnacha 75Cl X 12',\n",
       " 'Sweet Red Wine (Castillo De Espana) 75Cl X 12',\n",
       " 'Vodka Colada – 75 Cl X 6 - Carton',\n",
       " 'X.O. FABRICAT IN MOLDOVA DIVIN Brandy- 750ml',\n",
       " 'Longrich Vintage Wine 500ml',\n",
       " 'Raspberry Vodka 75 Cl X 12 Bottles',\n",
       " 'Glass Pack - Chocolate Velvet Ruby 15% Red Wine 50 Cl X 8',\n",
       " 'Citron Vodka 75 Cl X 1',\n",
       " 'Black Doktor (Moldovan) Merlot Red Wine - 750ml (12.5% Acl) × 3 Bottles',\n",
       " 'Sparkling Semi-Sweet Rose Wine & Champagne',\n",
       " 'Citron Vodka 75 Cl X 12 Bottles',\n",
       " 'Semi-Sweet White Muscat',\n",
       " 'White Wine (Castillo De Espana) Tempranillo Garnacha 75Cl',\n",
       " 'Crisp & Fruity White Blossom Hill Wine 75CL X 12',\n",
       " 'Greek Red Wine (750ML, 12.5% Alc Vol) 2015',\n",
       " 'Clementine Vodka 75 Cl X 12 Bottles',\n",
       " 'Glass Pack - Chocolate Velvet Ruby 15% Red Wine 50 Cl',\n",
       " 'Vodka Colada – 75 Cl X 1',\n",
       " 'California Rose - (6 BOTTLES)',\n",
       " 'Black Doktor Moldovan Red Dessert Wine - 750ml × 12 Bottles',\n",
       " 'White Wine- Casillero Del Diablo Sauvignon Blanc 75Cl X 6',\n",
       " 'Cabernet Sauvignon Red Wine 12.5% Alcohol 75cl X 6 (Carton)',\n",
       " 'PORTUGUESE RED WINE - 6 BOTTLES',\n",
       " 'Valdivieso Classic Chardonnay',\n",
       " 'Chocolate Velvet Ruby Non Vintage 15% Red Wine 50Cl',\n",
       " 'MOLDOVENESC Rosu Demidulce Red Wine - 750ml',\n",
       " 'Crisp & Fruity White  Wine 75CL X 1',\n",
       " 'Sparkling Semi-Sweet White Wine & Champagne  - 1 Carton(Contain 6 Bottles)',\n",
       " 'Vintage Wine 500ml',\n",
       " 'Sparkling Sweet White Wine - 1 Carton (Contain 6 Bottles)',\n",
       " 'Black Doktor Moldovan Red Dessert Wine - 750ml × 3 Bottles',\n",
       " 'Vanilla Vodka 75 Cl X 1',\n",
       " 'Awesome Sweet Wine (X6)',\n",
       " 'Merlot Wine- Casillero Del Diablo 75Cl (Pack Of 6)',\n",
       " 'Vintage Wine 500ml',\n",
       " 'Vanilla Vodka 75 Cl X 12 Bottles',\n",
       " 'Belaire Brut Champagne',\n",
       " 'La Brisa Semi Dry Rose Sparkling Wine 75cl 10.5 Alcohol Vol ( 6 Bottles)',\n",
       " 'Vodka Colada – 75 Cl X 6 Bottles',\n",
       " 'Red Wine - 75cl X 6',\n",
       " 'Wines - Casillero De Diablo 75 Cl X 6',\n",
       " 'Chocolate Velvet Ruby Non Vintage 15% Red Wine 50Cl X 1',\n",
       " 'Vintage Wine',\n",
       " 'Vintage Nutritional Health Wine 500ML',\n",
       " 'Black Doktor (Moldovan) Red Wine - 750ml (12.5% Acl) × 6 Bottles',\n",
       " 'Premium Wine - 1000 Stories Bourbon Aged Zinfandel 75cl X 6',\n",
       " 'Rose Wine Castillo De Espana Tempranillo Garnacha 75Cl X 12 ',\n",
       " 'Sparkling Semi-Sweet Red Wine',\n",
       " 'Black Doktor Red Wine Dessert (Moldovan) - 750ml (16% Acl) × 6 Bottles',\n",
       " 'KAAPZICHT Steytler Vision 2010',\n",
       " 'Clementine Vodka 75 Cl X 1',\n",
       " 'Red Wine - Casillero Del Diablo Red Blend 75Cl X 1',\n",
       " 'Black Doctor (Moldovan) Merlot Red Wine - 750ml (12.5% Acl) × 12 Bottles (2 Cartons)',\n",
       " 'Cherry Vodka 75 Cl X 12 Bottles',\n",
       " 'La Brisa Semi Dry Rose Sparkling Wine 75cl 10.5 Alcohol Vol ( 12 Bottles)',\n",
       " 'Vodka Colada – 75 Cl X 1',\n",
       " 'Crisp & Fruity Red Blossom Hill Wine 75CL X 1',\n",
       " 'La Brisa Semi Dry Rose Sparkling Wine 75cl 10.5 Alcohol Vol',\n",
       " 'Pure Heaven Non- Alcoholic Sparkling Drink( White Grape With Strawberry)',\n",
       " 'Hartenberg The Mackenzie 2010',\n",
       " 'Red Wine - Casillero Del Diablo Cabernet Sauvignon 75Cl',\n",
       " 'La Brisa Semi Dry White Wine 75cl 10.5 Alcohol Vol ( 3 Bottles)',\n",
       " 'Sparkling Semi-Sweet White Muscat Wine & Champagne',\n",
       " 'Red Wine - Casillero Del Diablo Red Blend 75Cl X 6',\n",
       " 'Non-Alcoholic Sparkling Grape Juice - 750ml X12',\n",
       " 'Black Doktor Red Wine Dessert (Moldovan) - 750ml (16% Acl) × 12 Bottles',\n",
       " 'Black Doktor Red Wine Dessert (Moldovan) - 750ml (16% Acl) × 3 Bottles',\n",
       " 'Thelema Merlot 2013',\n",
       " 'Raspberry Vodka 75 Cl X 1',\n",
       " 'Red Wine - Casillero Del Diablo Cabernet Sauvignon 75Cl X6',\n",
       " 'Eggovin Alcoholic Drink 0.20L( Small Size ) X6 Bottles',\n",
       " ' Sparkling Brut White Wine & Champagne - 1 Carton',\n",
       " 'Vintage Wine 500ml',\n",
       " 'Grand Cuvée - X 12 Bottles',\n",
       " 'Spumante White Wine - 0.75l',\n",
       " 'Black Doktor Moldovan Red Dessert Wine - 750ml × 6 Bottles',\n",
       " 'Crisp & Fruity Blossom Hill Wine Red 75CL X 12',\n",
       " 'White Wine- Casillero Del Diablo Sauvignon Blanc 75Cl X 1',\n",
       " 'Grand Cuvée - X 6 Bottles',\n",
       " 'Inflatable Bubble Wrap Bags Shockproof Wine Bottle Pack X 24',\n",
       " 'Eggovin Alcoholic Drink Herman Jansen 0.75L X6( Big Size )',\n",
       " 'Eggovin Alcoholic Drink 0.20L( Small Size )X12',\n",
       " 'Chocolate Velvet Ruby Non Vintage 15% Red Wine 50Cl X12 ',\n",
       " 'ROSE 750ml 11%ALC',\n",
       " 'Red Wine - 750ml 9% ALC',\n",
       " 'Exclusive Red Wine',\n",
       " 'Exculsive Red WINE.',\n",
       " 'Vintage Liquor Wine',\n",
       " 'Vintage Liquor Wine',\n",
       " 'Raspberry Vodka 75 Cl X 12 Bottles - Carton',\n",
       " 'Chocolate Velvet Ruby Non Vintage 15% Red Wine 50Cl',\n",
       " 'Eggovin Alcoholic Drink Herman Jansen 0.75L( Big Size )',\n",
       " 'Longrich Vintage Wine ( All Round Health Enhancement)',\n",
       " 'Vintage Wine ( All Round Health Enhancement)',\n",
       " 'California Red Wine- 12 Bottles (1 CARTON)',\n",
       " 'Longrich Vintage Wine 500ml',\n",
       " 'Pinta Negra Red Wine - 75cl',\n",
       " 'Chamdor Red Grape Wine 6 X 75cl',\n",
       " 'Rose Wine (De Espana)Tempranillo Garnacha 75Cl X 3',\n",
       " 'Ocean Beach California Red Wine',\n",
       " 'Premium Whisky',\n",
       " 'Cape More Sweet Red Wine -750 ML',\n",
       " 'Marques & Gaiety Red Wine -750 ML',\n",
       " 'Don Vigo Classic Red Wine -750 ML',\n",
       " 'Cape More Sweet Red Wine -750 ML',\n",
       " 'Don Vigo Classic Red Wine -750 ML',\n",
       " \"Grand Master's Malt Blended Whisky\",\n",
       " 'California Rose - Smooth Wine (12 BOTTLES)',\n",
       " 'Merlot Wine 12.5% Alcohol 75cl X 6 (Carton)',\n",
       " 'White Wine - Casillero Del Diablo Sauvignon Blanc 75 Cl X 6',\n",
       " 'Sauvignon Blanc White Wine 75cl X 6 (Carton)',\n",
       " 'Chocolate Velvet Ruby Non Vintage 15% Red Wine 50Cl X12',\n",
       " 'Sweet Red Wine 75cl X 6 (Carton)',\n",
       " 'Chocolate Velvet Ruby Non Vintage 15% Red Wine 50Cl',\n",
       " 'Vanilla Vodka 75 Cl X 12 - Carton',\n",
       " 'Cherry Vodka 75 Cl X 12 - Carton',\n",
       " 'Merlot Wine- Casillero Del Diablo 75Cl (Pack Of 6)',\n",
       " 'Vodka Colada – 75 Cl X 6 - 1Carton',\n",
       " 'California Sweet Red 75cl X 12 Bottles',\n",
       " 'Citron Vodka 75 Cl X 12 -Carton',\n",
       " 'Rose Wine (De Espana)Tempranillo Garnacha 75Cl X 12',\n",
       " 'California Red Wine- SINGLE BOTTLE',\n",
       " 'Black Doktor (Moldovan) Merlot Red Wine - 750ml (12.5% Acl)',\n",
       " 'Non-Alcoholic Sparkling Grape Juice - 750ml X6',\n",
       " 'Non-Alcoholic Sparkling Grape Juice - 750ml X 3',\n",
       " 'Sparking Wine (Blue) - 750ml X 3',\n",
       " 'Irish Cream 700ml',\n",
       " 'RED WINE - 6 BOTTLES',\n",
       " 'California Rose ',\n",
       " 'California Rose - (3 BOTTLES)',\n",
       " 'Non - Alcoholic Sparkling Grape Juice - 750ml X 3pcs',\n",
       " 'Single Wine Bottle Strong Cardboard Box Bulk Quantity 10pcs',\n",
       " 'Vintage Wine 500ml',\n",
       " '4Pcs Stainless Steel Camping/Travel Mug Beer Tumbler Coffee Tea Cup+PU ',\n",
       " 'Vintage Nutritional Health Wine 500ML',\n",
       " '5oz Stainless Whisky Pocket Bottle + Funnel UK',\n",
       " 'Sparkling Red Grape Wine ( 750ml X 12)',\n",
       " 'Romero, Vin Rouge (750ml).',\n",
       " 'Valentines Gift Bundle For Women (1)',\n",
       " 'Valentines Gift Set For Men & Women; Celebrate, Wines, Chocs',\n",
       " 'Valentines Gift; Wine & Feelings Chocolate + Free Gift Bag',\n",
       " 'Action Bitters Alcoholic Drink 75cl']"
      ]
     },
     "execution_count": 7,
     "metadata": {},
     "output_type": "execute_result"
    }
   ],
   "source": [
    "names"
   ]
  },
  {
   "cell_type": "code",
   "execution_count": 8,
   "metadata": {},
   "outputs": [
    {
     "data": {
      "text/html": [
       "<div>\n",
       "<style scoped>\n",
       "    .dataframe tbody tr th:only-of-type {\n",
       "        vertical-align: middle;\n",
       "    }\n",
       "\n",
       "    .dataframe tbody tr th {\n",
       "        vertical-align: top;\n",
       "    }\n",
       "\n",
       "    .dataframe thead th {\n",
       "        text-align: right;\n",
       "    }\n",
       "</style>\n",
       "<table border=\"1\" class=\"dataframe\">\n",
       "  <thead>\n",
       "    <tr style=\"text-align: right;\">\n",
       "      <th></th>\n",
       "      <th>Name</th>\n",
       "      <th>Images</th>\n",
       "      <th>Price</th>\n",
       "    </tr>\n",
       "  </thead>\n",
       "  <tbody>\n",
       "    <tr>\n",
       "      <th>146</th>\n",
       "      <td>Vintage Nutritional Health Wine 500ML</td>\n",
       "      <td>https://ng.jumia.is/3pJo_dcDumxEauUgEOHPdaq0kd...</td>\n",
       "      <td>₦ 9,500</td>\n",
       "    </tr>\n",
       "    <tr>\n",
       "      <th>147</th>\n",
       "      <td>5oz Stainless Whisky Pocket Bottle + Funnel UK</td>\n",
       "      <td>https://ng.jumia.is/Y8UDCD5sShZnaNvZdj4_MSM0HQ...</td>\n",
       "      <td>₦ 5,243  ₦ 9,720</td>\n",
       "    </tr>\n",
       "    <tr>\n",
       "      <th>148</th>\n",
       "      <td>Sparkling Red Grape Wine ( 750ml X 12)</td>\n",
       "      <td>https://ng.jumia.is/_54YyIv1gz5jmGaqkFRIWvlZyJ...</td>\n",
       "      <td>₦ 17,850</td>\n",
       "    </tr>\n",
       "    <tr>\n",
       "      <th>149</th>\n",
       "      <td>Romero, Vin Rouge (750ml).</td>\n",
       "      <td>https://ng.jumia.is/lcgvLW7DsciprqdK7vkQDh-vJ3...</td>\n",
       "      <td>₦ 3,400</td>\n",
       "    </tr>\n",
       "    <tr>\n",
       "      <th>150</th>\n",
       "      <td>Valentines Gift Bundle For Women (1)</td>\n",
       "      <td>https://ng.jumia.is/fUaGCuNa6cq3QWisrE0IIW-PrC...</td>\n",
       "      <td>₦ 7,500  ₦ 10,200</td>\n",
       "    </tr>\n",
       "    <tr>\n",
       "      <th>151</th>\n",
       "      <td>Valentines Gift Set For Men &amp; Women; Celebrate...</td>\n",
       "      <td>https://ng.jumia.is/Iy9Sgp6stHdOjke1S6nHvQ7TMP...</td>\n",
       "      <td>₦ 9,500</td>\n",
       "    </tr>\n",
       "    <tr>\n",
       "      <th>152</th>\n",
       "      <td>Valentines Gift; Wine &amp; Feelings Chocolate + F...</td>\n",
       "      <td>https://ng.jumia.is/lHSB6xTz9M78LOWQ8tV5CSeppu...</td>\n",
       "      <td>₦ 4,900</td>\n",
       "    </tr>\n",
       "    <tr>\n",
       "      <th>153</th>\n",
       "      <td>Action Bitters Alcoholic Drink 75cl</td>\n",
       "      <td>https://ng.jumia.is/drjs2G-nVqFMTU7Qd6HYmpFjsh...</td>\n",
       "      <td>₦ 1,600  ₦ 3,500</td>\n",
       "    </tr>\n",
       "  </tbody>\n",
       "</table>\n",
       "</div>"
      ],
      "text/plain": [
       "                                                  Name  \\\n",
       "146              Vintage Nutritional Health Wine 500ML   \n",
       "147     5oz Stainless Whisky Pocket Bottle + Funnel UK   \n",
       "148             Sparkling Red Grape Wine ( 750ml X 12)   \n",
       "149                         Romero, Vin Rouge (750ml).   \n",
       "150               Valentines Gift Bundle For Women (1)   \n",
       "151  Valentines Gift Set For Men & Women; Celebrate...   \n",
       "152  Valentines Gift; Wine & Feelings Chocolate + F...   \n",
       "153                Action Bitters Alcoholic Drink 75cl   \n",
       "\n",
       "                                                Images                 Price  \n",
       "146  https://ng.jumia.is/3pJo_dcDumxEauUgEOHPdaq0kd...           ₦ 9,500      \n",
       "147  https://ng.jumia.is/Y8UDCD5sShZnaNvZdj4_MSM0HQ...    ₦ 5,243  ₦ 9,720    \n",
       "148  https://ng.jumia.is/_54YyIv1gz5jmGaqkFRIWvlZyJ...          ₦ 17,850      \n",
       "149  https://ng.jumia.is/lcgvLW7DsciprqdK7vkQDh-vJ3...           ₦ 3,400      \n",
       "150  https://ng.jumia.is/fUaGCuNa6cq3QWisrE0IIW-PrC...   ₦ 7,500  ₦ 10,200    \n",
       "151  https://ng.jumia.is/Iy9Sgp6stHdOjke1S6nHvQ7TMP...           ₦ 9,500      \n",
       "152  https://ng.jumia.is/lHSB6xTz9M78LOWQ8tV5CSeppu...           ₦ 4,900      \n",
       "153  https://ng.jumia.is/drjs2G-nVqFMTU7Qd6HYmpFjsh...    ₦ 1,600  ₦ 3,500    "
      ]
     },
     "execution_count": 8,
     "metadata": {},
     "output_type": "execute_result"
    }
   ],
   "source": [
    "jumia_df = pd.DataFrame({\"Name\":names, \"Images\": images, \"Price\": price})\n",
    "jumia_df.tail(8)"
   ]
  },
  {
   "cell_type": "code",
   "execution_count": 9,
   "metadata": {
    "colab": {
     "base_uri": "https://localhost:8080/",
     "height": 85
    },
    "colab_type": "code",
    "id": "LD9FNqWaD_aL",
    "outputId": "34233074-5887-4118-827d-4f2c6a9edd60"
   },
   "outputs": [
    {
     "data": {
      "text/plain": [
       "Name      0\n",
       "Images    0\n",
       "Price     0\n",
       "dtype: int64"
      ]
     },
     "execution_count": 9,
     "metadata": {},
     "output_type": "execute_result"
    }
   ],
   "source": [
    "jumia_df.isnull().sum()"
   ]
  },
  {
   "cell_type": "code",
   "execution_count": 10,
   "metadata": {
    "colab": {},
    "colab_type": "code",
    "id": "RnRTMmhbEixS"
   },
   "outputs": [],
   "source": [
    "jumia_df.to_csv(\"Jumia.csv\", index=False)"
   ]
  },
  {
   "cell_type": "markdown",
   "metadata": {
    "colab_type": "text",
    "id": "luA9UjpXfZJ_"
   },
   "source": []
  }
 ],
 "metadata": {
  "colab": {
   "name": "WineHouseNigeria.ipynb",
   "provenance": []
  },
  "hide_input": false,
  "kernelspec": {
   "display_name": "scrapy",
   "language": "python",
   "name": "scrapy"
  },
  "language_info": {
   "codemirror_mode": {
    "name": "ipython",
    "version": 3
   },
   "file_extension": ".py",
   "mimetype": "text/x-python",
   "name": "python",
   "nbconvert_exporter": "python",
   "pygments_lexer": "ipython3",
   "version": "3.7.6"
  },
  "toc": {
   "base_numbering": 1,
   "nav_menu": {},
   "number_sections": true,
   "sideBar": true,
   "skip_h1_title": false,
   "title_cell": "Table of Contents",
   "title_sidebar": "Contents",
   "toc_cell": false,
   "toc_position": {},
   "toc_section_display": true,
   "toc_window_display": false
  }
 },
 "nbformat": 4,
 "nbformat_minor": 1
}
