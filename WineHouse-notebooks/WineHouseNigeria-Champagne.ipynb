{
 "cells": [
  {
   "cell_type": "code",
   "execution_count": 1,
   "metadata": {
    "colab": {},
    "colab_type": "code",
    "id": "CA769aHqX-tn"
   },
   "outputs": [],
   "source": [
    "#Import tools\n",
    "\n",
    "import requests\n",
    "from requests import get\n",
    "from bs4 import BeautifulSoup\n",
    "import pandas as pd\n",
    "import numpy as np\n",
    "\n",
    "from time import sleep\n",
    "from random import randint"
   ]
  },
  {
   "cell_type": "code",
   "execution_count": 2,
   "metadata": {
    "colab": {
     "base_uri": "https://localhost:8080/",
     "height": 34
    },
    "colab_type": "code",
    "id": "txXg7QN1Ym-F",
    "outputId": "7ed05d6e-c102-4c5b-f2bd-b254cda17a79"
   },
   "outputs": [
    {
     "data": {
      "text/plain": [
       "array([1, 2, 3, 4, 5])"
      ]
     },
     "execution_count": 2,
     "metadata": {},
     "output_type": "execute_result"
    }
   ],
   "source": [
    "pages = np.arange(1, 6, 1)\n",
    "pages"
   ]
  },
  {
   "cell_type": "code",
   "execution_count": 3,
   "metadata": {
    "colab": {},
    "colab_type": "code",
    "id": "sRy1444walLx"
   },
   "outputs": [],
   "source": [
    "#initialize empty lists where we'll store our data\n",
    "images = []\n",
    "names = []\n",
    "price = []"
   ]
  },
  {
   "cell_type": "code",
   "execution_count": null,
   "metadata": {},
   "outputs": [],
   "source": [
    "# https://winehousenigeria.com/product-category/champagne/page/2/"
   ]
  },
  {
   "cell_type": "code",
   "execution_count": 6,
   "metadata": {
    "colab": {},
    "colab_type": "code",
    "id": "oxc2Vti8mD2X"
   },
   "outputs": [],
   "source": [
    "\n",
    "for page in pages: \n",
    "\n",
    "  page = requests.get(\"https://winehousenigeria.com/product-category/champagne/page/\" + str(page) + \"/\")\n",
    "\n",
    "  soup = BeautifulSoup(page.text, 'html.parser')\n",
    "  wine_div = soup.find_all('li', class_= \"product\")\n",
    "  \n",
    "  sleep(randint(2,10))\n",
    "\n",
    "  for container in wine_div:\n",
    "      name = container.a.find(\"h2\", class_=\"woocommerce-loop-product__title\").text\n",
    "      names.append(name)\n",
    "\n",
    "      image = container.a.find(\"span\", class_=\"et_shop_image\").img[\"src\"]\n",
    "      images.append(image)\n",
    "\n",
    "      cost = container.a.find(\"span\", class_=\"woocommerce-Price-amount\").text\n",
    "      price.append(cost)\n",
    "\n"
   ]
  },
  {
   "cell_type": "code",
   "execution_count": 7,
   "metadata": {
    "colab": {
     "base_uri": "https://localhost:8080/",
     "height": 68
    },
    "colab_type": "code",
    "id": "kZ2T-NJTqRUN",
    "outputId": "f11d6abe-caea-4ccd-b14c-b0d3557bcfeb"
   },
   "outputs": [
    {
     "name": "stdout",
     "output_type": "stream",
     "text": [
      "40\n",
      "40\n",
      "40\n"
     ]
    }
   ],
   "source": [
    "print(len(names))\n",
    "print(len(images))\n",
    "print(len(price))"
   ]
  },
  {
   "cell_type": "code",
   "execution_count": 8,
   "metadata": {
    "colab": {
     "base_uri": "https://localhost:8080/",
     "height": 204
    },
    "colab_type": "code",
    "id": "_1n_XuBXDazk",
    "outputId": "b8dcfdb4-3d5a-41c8-8d02-35255b6714d3",
    "scrolled": true
   },
   "outputs": [
    {
     "data": {
      "text/html": [
       "<div>\n",
       "<style scoped>\n",
       "    .dataframe tbody tr th:only-of-type {\n",
       "        vertical-align: middle;\n",
       "    }\n",
       "\n",
       "    .dataframe tbody tr th {\n",
       "        vertical-align: top;\n",
       "    }\n",
       "\n",
       "    .dataframe thead th {\n",
       "        text-align: right;\n",
       "    }\n",
       "</style>\n",
       "<table border=\"1\" class=\"dataframe\">\n",
       "  <thead>\n",
       "    <tr style=\"text-align: right;\">\n",
       "      <th></th>\n",
       "      <th>Name</th>\n",
       "      <th>Images</th>\n",
       "      <th>Price</th>\n",
       "    </tr>\n",
       "  </thead>\n",
       "  <tbody>\n",
       "    <tr>\n",
       "      <th>0</th>\n",
       "      <td>Champagne Vollereaux – Premier Cru 75CL (12 Bo...</td>\n",
       "      <td>https://winehousenigeria.com/wp-content/upload...</td>\n",
       "      <td>₦222,000.00</td>\n",
       "    </tr>\n",
       "    <tr>\n",
       "      <th>1</th>\n",
       "      <td>Champagne Vollereaux (Premier Cru) – 75CL</td>\n",
       "      <td>https://winehousenigeria.com/wp-content/upload...</td>\n",
       "      <td>₦19,000.00</td>\n",
       "    </tr>\n",
       "    <tr>\n",
       "      <th>2</th>\n",
       "      <td>Champagne Vollereaux Rosé – 75CL</td>\n",
       "      <td>https://winehousenigeria.com/wp-content/upload...</td>\n",
       "      <td>₦19,000.00</td>\n",
       "    </tr>\n",
       "    <tr>\n",
       "      <th>3</th>\n",
       "      <td>Champagne Vollereaux Rosé – 75CL (12 Bottles)</td>\n",
       "      <td>https://winehousenigeria.com/wp-content/upload...</td>\n",
       "      <td>₦222,000.00</td>\n",
       "    </tr>\n",
       "    <tr>\n",
       "      <th>4</th>\n",
       "      <td>Haute Couture Blanc – 75CL</td>\n",
       "      <td>https://winehousenigeria.com/wp-content/upload...</td>\n",
       "      <td>₦8,000.00</td>\n",
       "    </tr>\n",
       "  </tbody>\n",
       "</table>\n",
       "</div>"
      ],
      "text/plain": [
       "                                                Name  \\\n",
       "0  Champagne Vollereaux – Premier Cru 75CL (12 Bo...   \n",
       "1          Champagne Vollereaux (Premier Cru) – 75CL   \n",
       "2                   Champagne Vollereaux Rosé – 75CL   \n",
       "3      Champagne Vollereaux Rosé – 75CL (12 Bottles)   \n",
       "4                         Haute Couture Blanc – 75CL   \n",
       "\n",
       "                                              Images        Price  \n",
       "0  https://winehousenigeria.com/wp-content/upload...  ₦222,000.00  \n",
       "1  https://winehousenigeria.com/wp-content/upload...   ₦19,000.00  \n",
       "2  https://winehousenigeria.com/wp-content/upload...   ₦19,000.00  \n",
       "3  https://winehousenigeria.com/wp-content/upload...  ₦222,000.00  \n",
       "4  https://winehousenigeria.com/wp-content/upload...    ₦8,000.00  "
      ]
     },
     "execution_count": 8,
     "metadata": {},
     "output_type": "execute_result"
    }
   ],
   "source": [
    "wine_house_df1 = pd.DataFrame({\"Name\":names, \"Images\": images, \"Price\": price})\n",
    "wine_house_df1.head()"
   ]
  },
  {
   "cell_type": "code",
   "execution_count": 9,
   "metadata": {},
   "outputs": [
    {
     "data": {
      "text/html": [
       "<div>\n",
       "<style scoped>\n",
       "    .dataframe tbody tr th:only-of-type {\n",
       "        vertical-align: middle;\n",
       "    }\n",
       "\n",
       "    .dataframe tbody tr th {\n",
       "        vertical-align: top;\n",
       "    }\n",
       "\n",
       "    .dataframe thead th {\n",
       "        text-align: right;\n",
       "    }\n",
       "</style>\n",
       "<table border=\"1\" class=\"dataframe\">\n",
       "  <thead>\n",
       "    <tr style=\"text-align: right;\">\n",
       "      <th></th>\n",
       "      <th>Name</th>\n",
       "      <th>Images</th>\n",
       "      <th>Price</th>\n",
       "    </tr>\n",
       "  </thead>\n",
       "  <tbody>\n",
       "    <tr>\n",
       "      <th>0</th>\n",
       "      <td>4th Street Sweet Red – 75CL</td>\n",
       "      <td>https://winehousenigeria.com/wp-content/upload...</td>\n",
       "      <td>₦1,500.00</td>\n",
       "    </tr>\n",
       "    <tr>\n",
       "      <th>1</th>\n",
       "      <td>4th Street Sweet Red – 75CL (12 Bottles)</td>\n",
       "      <td>https://winehousenigeria.com/wp-content/upload...</td>\n",
       "      <td>₦16,000.00</td>\n",
       "    </tr>\n",
       "    <tr>\n",
       "      <th>2</th>\n",
       "      <td>4th Street Sweet Rose – 75CL</td>\n",
       "      <td>https://winehousenigeria.com/wp-content/upload...</td>\n",
       "      <td>₦1,500.00</td>\n",
       "    </tr>\n",
       "    <tr>\n",
       "      <th>3</th>\n",
       "      <td>4th Street Sweet Rose – 75CL (6 Bottles)</td>\n",
       "      <td>https://winehousenigeria.com/wp-content/upload...</td>\n",
       "      <td>₦9,000.00</td>\n",
       "    </tr>\n",
       "    <tr>\n",
       "      <th>4</th>\n",
       "      <td>4th Street Sweet White – 75CL</td>\n",
       "      <td>https://winehousenigeria.com/wp-content/upload...</td>\n",
       "      <td>₦1,500.00</td>\n",
       "    </tr>\n",
       "  </tbody>\n",
       "</table>\n",
       "</div>"
      ],
      "text/plain": [
       "                                       Name  \\\n",
       "0               4th Street Sweet Red – 75CL   \n",
       "1  4th Street Sweet Red – 75CL (12 Bottles)   \n",
       "2              4th Street Sweet Rose – 75CL   \n",
       "3  4th Street Sweet Rose – 75CL (6 Bottles)   \n",
       "4             4th Street Sweet White – 75CL   \n",
       "\n",
       "                                              Images       Price  \n",
       "0  https://winehousenigeria.com/wp-content/upload...   ₦1,500.00  \n",
       "1  https://winehousenigeria.com/wp-content/upload...  ₦16,000.00  \n",
       "2  https://winehousenigeria.com/wp-content/upload...   ₦1,500.00  \n",
       "3  https://winehousenigeria.com/wp-content/upload...   ₦9,000.00  \n",
       "4  https://winehousenigeria.com/wp-content/upload...   ₦1,500.00  "
      ]
     },
     "execution_count": 9,
     "metadata": {},
     "output_type": "execute_result"
    }
   ],
   "source": [
    "wine_house_df2 = pd.read_csv(\"WineHouseNigeria.csv\")\n",
    "wine_house_df2.head()"
   ]
  },
  {
   "cell_type": "code",
   "execution_count": 10,
   "metadata": {},
   "outputs": [
    {
     "data": {
      "text/plain": [
       "(94, 3)"
      ]
     },
     "execution_count": 10,
     "metadata": {},
     "output_type": "execute_result"
    }
   ],
   "source": [
    "wine_house_df2.shape"
   ]
  },
  {
   "cell_type": "code",
   "execution_count": 11,
   "metadata": {},
   "outputs": [
    {
     "data": {
      "text/plain": [
       "(134, 3)"
      ]
     },
     "execution_count": 11,
     "metadata": {},
     "output_type": "execute_result"
    }
   ],
   "source": [
    "wine_house_df = wine_house_df2.append(wine_house_df1)\n",
    "wine_house_df.shape"
   ]
  },
  {
   "cell_type": "code",
   "execution_count": 12,
   "metadata": {},
   "outputs": [
    {
     "data": {
      "text/plain": [
       "Name      112\n",
       "Images     89\n",
       "Price      70\n",
       "dtype: int64"
      ]
     },
     "execution_count": 12,
     "metadata": {},
     "output_type": "execute_result"
    }
   ],
   "source": [
    "wine_house_df.nunique()"
   ]
  },
  {
   "cell_type": "code",
   "execution_count": 13,
   "metadata": {},
   "outputs": [
    {
     "data": {
      "text/plain": [
       "(112, 3)"
      ]
     },
     "execution_count": 13,
     "metadata": {},
     "output_type": "execute_result"
    }
   ],
   "source": [
    "wine_house_df.drop_duplicates(inplace=True)\n",
    "wine_house_df.shape"
   ]
  },
  {
   "cell_type": "code",
   "execution_count": null,
   "metadata": {},
   "outputs": [],
   "source": []
  },
  {
   "cell_type": "code",
   "execution_count": null,
   "metadata": {},
   "outputs": [],
   "source": []
  },
  {
   "cell_type": "code",
   "execution_count": 14,
   "metadata": {
    "colab": {
     "base_uri": "https://localhost:8080/",
     "height": 85
    },
    "colab_type": "code",
    "id": "LD9FNqWaD_aL",
    "outputId": "34233074-5887-4118-827d-4f2c6a9edd60"
   },
   "outputs": [
    {
     "data": {
      "text/plain": [
       "Name      0\n",
       "Images    0\n",
       "Price     0\n",
       "dtype: int64"
      ]
     },
     "execution_count": 14,
     "metadata": {},
     "output_type": "execute_result"
    }
   ],
   "source": [
    "wine_house_df.isnull().sum()"
   ]
  },
  {
   "cell_type": "code",
   "execution_count": 15,
   "metadata": {
    "colab": {},
    "colab_type": "code",
    "id": "RnRTMmhbEixS"
   },
   "outputs": [],
   "source": [
    "wine_house_df.to_csv(\"WineHouseNigeria.csv\", index=False)"
   ]
  },
  {
   "cell_type": "markdown",
   "metadata": {
    "colab_type": "text",
    "id": "luA9UjpXfZJ_"
   },
   "source": []
  }
 ],
 "metadata": {
  "colab": {
   "name": "WineHouseNigeria.ipynb",
   "provenance": []
  },
  "hide_input": false,
  "kernelspec": {
   "display_name": "Python 3",
   "language": "python",
   "name": "python3"
  },
  "language_info": {
   "codemirror_mode": {
    "name": "ipython",
    "version": 3
   },
   "file_extension": ".py",
   "mimetype": "text/x-python",
   "name": "python",
   "nbconvert_exporter": "python",
   "pygments_lexer": "ipython3",
   "version": "3.7.3"
  },
  "toc": {
   "base_numbering": 1,
   "nav_menu": {},
   "number_sections": true,
   "sideBar": true,
   "skip_h1_title": false,
   "title_cell": "Table of Contents",
   "title_sidebar": "Contents",
   "toc_cell": false,
   "toc_position": {},
   "toc_section_display": true,
   "toc_window_display": false
  }
 },
 "nbformat": 4,
 "nbformat_minor": 1
}
