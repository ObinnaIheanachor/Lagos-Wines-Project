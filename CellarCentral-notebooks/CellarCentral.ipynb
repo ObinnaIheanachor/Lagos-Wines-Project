{
 "cells": [
  {
   "cell_type": "code",
   "execution_count": 1,
   "metadata": {
    "colab": {},
    "colab_type": "code",
    "id": "CA769aHqX-tn"
   },
   "outputs": [],
   "source": [
    "#Import tools\n",
    "\n",
    "import requests\n",
    "from requests import get\n",
    "from bs4 import BeautifulSoup\n",
    "import pandas as pd\n",
    "import numpy as np\n",
    "\n",
    "from time import sleep\n",
    "from random import randint"
   ]
  },
  {
   "cell_type": "code",
   "execution_count": 2,
   "metadata": {
    "colab": {
     "base_uri": "https://localhost:8080/",
     "height": 34
    },
    "colab_type": "code",
    "id": "txXg7QN1Ym-F",
    "outputId": "7ed05d6e-c102-4c5b-f2bd-b254cda17a79"
   },
   "outputs": [
    {
     "data": {
      "text/plain": [
       "array([1, 2, 3, 4, 5, 6, 7, 8])"
      ]
     },
     "execution_count": 2,
     "metadata": {},
     "output_type": "execute_result"
    }
   ],
   "source": [
    "pages = np.arange(1, 9, 1)\n",
    "pages"
   ]
  },
  {
   "cell_type": "code",
   "execution_count": null,
   "metadata": {},
   "outputs": [],
   "source": [
    "https://www.cellarcentral.ng/index.php?_route_=wines&page=2"
   ]
  },
  {
   "cell_type": "code",
   "execution_count": 3,
   "metadata": {
    "colab": {},
    "colab_type": "code",
    "id": "sRy1444walLx"
   },
   "outputs": [],
   "source": [
    "#initialize empty lists where we'll store our data\n",
    "images = []\n",
    "names = []\n",
    "price = []"
   ]
  },
  {
   "cell_type": "code",
   "execution_count": 4,
   "metadata": {
    "colab": {},
    "colab_type": "code",
    "id": "oxc2Vti8mD2X"
   },
   "outputs": [],
   "source": [
    "\n",
    "for page in pages: \n",
    "\n",
    "  page = requests.get(\"https://www.cellarcentral.ng/index.php?_route_=wines&page=\" + str(page))\n",
    "\n",
    "  soup = BeautifulSoup(page.text, 'html.parser')\n",
    "  wine_div = soup.find_all('div', class_= \"product-thumb\")\n",
    "  \n",
    "  sleep(randint(2,10))\n",
    "\n",
    "  for container in wine_div:\n",
    "      name = container.find(\"div\", class_=\"caption\").a.text.strip()\n",
    "      names.append(name)\n",
    "\n",
    "      image = container.find(\"div\", class_=\"image\").img[\"src\"]\n",
    "      images.append(image)\n",
    "\n",
    "      cost = container.find(\"p\", class_=\"price\").text.strip()\n",
    "      price.append(cost)\n",
    "\n"
   ]
  },
  {
   "cell_type": "code",
   "execution_count": 5,
   "metadata": {},
   "outputs": [
    {
     "data": {
      "text/plain": [
       "['₦105,000.00',\n",
       " '₦8,000.00',\n",
       " '₦1,600.00',\n",
       " '₦1,600.00',\n",
       " '₦1,600.00',\n",
       " '₦1,600.00',\n",
       " '₦2,700.00',\n",
       " '₦2,700.00',\n",
       " '₦2,700.00',\n",
       " '₦14,400.00',\n",
       " '₦8,500.00',\n",
       " '₦3,650.00',\n",
       " '₦2,800.00',\n",
       " '₦2,500.00',\n",
       " '₦2,400.00',\n",
       " '₦8,750.00',\n",
       " '₦8,400.00',\n",
       " '₦9,600.00',\n",
       " '₦10,000.00',\n",
       " '₦9,000.00',\n",
       " '₦26,000.00',\n",
       " '₦5,300.00',\n",
       " '₦5,300.00',\n",
       " '₦7,000.00',\n",
       " '₦9,600.00',\n",
       " '₦11,800.00',\n",
       " '₦9,000.00',\n",
       " '₦4,400.00',\n",
       " '₦6,400.00',\n",
       " '₦16,300.00',\n",
       " '₦3,250.00',\n",
       " '₦4,500.00',\n",
       " '₦6,400.00',\n",
       " '₦6,400.00',\n",
       " '₦12,000.00',\n",
       " '₦12,000.00',\n",
       " '₦5,100.00',\n",
       " '₦5,100.00',\n",
       " '₦7,000.00',\n",
       " '₦7,000.00',\n",
       " '₦8,800.00',\n",
       " '₦8,800.00',\n",
       " '₦10,800.00',\n",
       " '₦9,300.00',\n",
       " '₦4,400.00',\n",
       " '₦21,000.00',\n",
       " '₦4,600.00',\n",
       " '₦4,300.00',\n",
       " '₦4,500.00',\n",
       " '₦4,300.00',\n",
       " '₦1,650.00',\n",
       " '₦1,950.00',\n",
       " '₦1,950.00',\n",
       " '₦1,950.00',\n",
       " '₦4,100.00',\n",
       " '₦7,200.00',\n",
       " '₦4,800.00',\n",
       " '₦6,200.00',\n",
       " '₦6,600.00',\n",
       " '₦6,600.00',\n",
       " '₦6,600.00',\n",
       " '₦3,800.00',\n",
       " '₦4,000.00',\n",
       " '₦3,600.00',\n",
       " '₦3,500.00',\n",
       " '₦10,800.00',\n",
       " '₦11,600.00',\n",
       " '₦25,600.00',\n",
       " '₦24,400.00',\n",
       " '₦119,000.00',\n",
       " '₦4,200.00',\n",
       " '₦35,600.00',\n",
       " '₦3,400.00',\n",
       " '₦3,400.00',\n",
       " '₦3,400.00',\n",
       " '₦3,400.00',\n",
       " '₦1,300.00',\n",
       " '₦1,300.00',\n",
       " '₦1,300.00',\n",
       " '₦2,300.00',\n",
       " '₦9,600.00',\n",
       " '₦5,000.00',\n",
       " '₦4,400.00',\n",
       " '₦1,500.00',\n",
       " '₦1,500.00',\n",
       " '₦1,500.00',\n",
       " '₦9,400.00',\n",
       " '₦5,200.00',\n",
       " '₦3,500.00',\n",
       " '₦3,500.00',\n",
       " '₦3,500.00',\n",
       " '₦12,000.00',\n",
       " '₦2,400.00',\n",
       " '₦2,400.00',\n",
       " '₦2,250.00',\n",
       " '₦2,250.00',\n",
       " '₦2,500.00',\n",
       " '₦4,800.00',\n",
       " '₦4,800.00',\n",
       " '₦4,800.00',\n",
       " '₦42,000.00',\n",
       " '₦7,000.00',\n",
       " '₦4,500.00',\n",
       " '₦4,300.00',\n",
       " '₦4,000.00',\n",
       " '₦12,200.00',\n",
       " '₦5,300.00',\n",
       " '₦20,600.00',\n",
       " '₦7,600.00',\n",
       " '₦2,500.00',\n",
       " '₦2,500.00',\n",
       " '₦11,000.00',\n",
       " '₦3,600.00',\n",
       " '₦3,600.00',\n",
       " '₦3,600.00',\n",
       " '₦4,600.00',\n",
       " '₦6,500.00',\n",
       " '₦6,000.00',\n",
       " '₦3,600.00',\n",
       " '₦3,600.00',\n",
       " '₦3,400.00',\n",
       " '₦3,400.00',\n",
       " '₦3,400.00']"
      ]
     },
     "execution_count": 5,
     "metadata": {},
     "output_type": "execute_result"
    }
   ],
   "source": [
    "price"
   ]
  },
  {
   "cell_type": "code",
   "execution_count": 6,
   "metadata": {
    "colab": {
     "base_uri": "https://localhost:8080/",
     "height": 68
    },
    "colab_type": "code",
    "id": "kZ2T-NJTqRUN",
    "outputId": "f11d6abe-caea-4ccd-b14c-b0d3557bcfeb"
   },
   "outputs": [
    {
     "name": "stdout",
     "output_type": "stream",
     "text": [
      "123\n",
      "123\n",
      "123\n"
     ]
    }
   ],
   "source": [
    "print(len(names))\n",
    "print(len(images))\n",
    "print(len(price))"
   ]
  },
  {
   "cell_type": "code",
   "execution_count": 7,
   "metadata": {},
   "outputs": [
    {
     "data": {
      "text/plain": [
       "['Ao Yun Chinese Red *75cl',\n",
       " 'B&G Chateauneuf du Pape *75CL',\n",
       " 'B&G Cuvee Speciale Red *75CL',\n",
       " 'B&G Cuvee Speciale Rose *75CL',\n",
       " 'B&G Cuvee Speciale White *75CL',\n",
       " 'B&G Cuvee Sweet Red *75CL',\n",
       " 'B&G Reserve Cabernet Sauvignon *75CL',\n",
       " 'B&G Reserve Chardonnay *75CL',\n",
       " 'B&G Reserve Merlot *75CL',\n",
       " 'Boekenhoutskloof Cabernet Sauvignon *75cl',\n",
       " 'Boekenhoutskloof Semillon White *75cl',\n",
       " 'Boschendal Blanc de Noir *75CL',\n",
       " 'Boschendal Pavillion Blanc *75CL',\n",
       " 'Boschendal Pavillion Shiraz Cabernet Sauvignon *75CL',\n",
       " 'Boschendal Pavillion Shiraz Rose *75CL',\n",
       " 'Boschendal Reserve Collection Chardonnay *75CL',\n",
       " 'Boschendal Reserve Syrah *75CL',\n",
       " 'Chateau d’Arcins Cru Buorgeois *75CL',\n",
       " 'Chateau Magnol *75cl',\n",
       " 'Chateau Minuty Rose et Or *75CL',\n",
       " 'Cheval Des Andes *75cl',\n",
       " 'Clarendelle Bordeaux Blanc (White) *75CL',\n",
       " 'Clarendelle Bordeaux Rouge (Red) *75CL',\n",
       " 'Clarendelle Saint Emilion *75CL',\n",
       " 'Cloudy Bay Chardonnay *75cl',\n",
       " 'Cloudy Bay Pinot Noir *75cl',\n",
       " 'Cloudy Bay Sauvignon Blanc *75cl',\n",
       " 'Escudo Rojo *75CL',\n",
       " 'Fantinel BT Cabernet Sauvignon *75CL',\n",
       " 'Fantinel La Roncaia Refosco *75CL',\n",
       " 'Fantinel Prosecco Brut *75CL',\n",
       " 'Fantinel Prosecco Rose *75CL',\n",
       " \"Fantinel Sant'Helena Collio Rosso Venko *75CL\",\n",
       " \"Fantinel Sant'Helena Refosco *75CL\",\n",
       " 'Gerard Betrand Cigalus Red * 75cl',\n",
       " 'Gerard Betrand Cigalus White *75cl',\n",
       " 'Gerard Betrand Cote de Roses Rose  *75cl',\n",
       " 'Gerard Betrand Cote de Roses White *75cl',\n",
       " 'Haute Couture French Bubbles Blanc *75CL',\n",
       " 'Haute Couture French Bubbles Rose *75CL',\n",
       " 'Kanonkop Cabernet Sauvignon *75CL',\n",
       " 'Kanonkop Cape Blend *75CL',\n",
       " 'Kanonkop Paul Sauer *75CL',\n",
       " 'Kanonkop Pinotage *75CL',\n",
       " 'Krone Sparkling Night Nectar Rose  *75cl',\n",
       " 'La Forge Boutenac *75CL',\n",
       " 'Martini Asti *75CL',\n",
       " 'Martini Brut *75CL',\n",
       " 'Martini Prosecco *75CL',\n",
       " 'Martini Rose *75CL',\n",
       " 'Mateus Rose *75CL',\n",
       " 'Mateus Sparkling Baga & Shiraz Brut Rose *75CL',\n",
       " 'Mateus Sparkling Baga & Shiraz Demi Sec *75CL',\n",
       " 'Mateus Sparkling Maria Gomes & Muscat *75cl',\n",
       " 'Mateus Sparkling Rose Gift Box',\n",
       " 'Matua Sauvignon Blanc *75cl',\n",
       " 'Mouton Cadet Bordeaux Rouge *75CL',\n",
       " 'Mouton Cadet Reserve Graves Blanc *75CL',\n",
       " 'Mouton Cadet Reserve Graves Rouge *75CL',\n",
       " 'Mouton Cadet Reserve Medoc *75CL',\n",
       " 'Mouton Cadet Reserve Saint Emilion *75CL',\n",
       " 'Mouton Cadet Sauvignon Blanc *75CL',\n",
       " 'Nederburg Cabernet Sauvignon *75CL',\n",
       " 'Nederburg Chardonnay *75CL',\n",
       " 'Nederburg Sauvignon Blanc *75CL',\n",
       " 'Neil Ellis Vineyard Selection Cabernet Sauvignon *75CL',\n",
       " 'Penfolds Bin 28 Kalimna Shiraz *75CL',\n",
       " 'Penfolds Bin 389 Cabernet Shiraz *75CL',\n",
       " 'Penfolds Bin 407 Cabernet Sauvignon *75CL',\n",
       " 'Penfolds Bin 707 Cabernet Sauvignon *75CL',\n",
       " 'Penfolds Koonunga Hill Cabernet Sauvignon *75CL',\n",
       " 'Penfolds St Henri Shiraz *75CL',\n",
       " 'Reserve Speciale Cabernet Sauvignon *75cl',\n",
       " 'Reserve Speciale Merlot *75cl',\n",
       " 'Reserve Speciale Pinot Noir * 75cl',\n",
       " 'Reserve Speciale Sauvignon Blanc *75cl',\n",
       " 'Robertson Winery Chapel Red *75CL',\n",
       " 'Robertson Winery Chapel Sweet Red *75CL',\n",
       " 'Robertson Winery Chapel White *75CL',\n",
       " 'Roble Cabernet Sauvignon *75CL',\n",
       " 'Rustenberg Cabernet  Sauvignon *75CL',\n",
       " 'Rustenberg Sauvignon Blanc *75CL',\n",
       " 'Rustenberg Shiraz *75CL',\n",
       " 'Saint Anna *75CL',\n",
       " 'Saint Celine *75CL',\n",
       " 'Saint Claire *75CL',\n",
       " 'Saint Emilion De Quintus MMXV *75CL',\n",
       " \"Sandeman Founder's Reserve *75CL\",\n",
       " 'Sandeman Ruby Porto *75CL',\n",
       " 'Sandeman Tawny Porto *75CL',\n",
       " 'Sandeman White Porto *75CL',\n",
       " 'Shannon Mount Bullet *75CL',\n",
       " 'Tall Horse Cabernet Sauvignon *75CL',\n",
       " 'Tall Horse Merlot *75CL',\n",
       " 'Tall Horse Pinotage *75CL',\n",
       " 'Tall Horse Pinotage Rose *75CL',\n",
       " 'Tall Horse Sauvignon Blanc *75CL',\n",
       " 'Terrazas Chardonnay *75CL',\n",
       " 'Terrazas Reserva Malbec *75CL',\n",
       " 'Terrazas Reserva Torrontes *75CL',\n",
       " 'The Chocolate Block *6',\n",
       " 'The Chocolate Block *75CL',\n",
       " 'The Independent Prosecco *75CL',\n",
       " 'Thomas Barton Reserve Bordeaux *75CL',\n",
       " 'Thomas Barton Reserve Graves Blanc *75CL',\n",
       " 'Thomas Barton Reserve Margaux *75CL',\n",
       " 'Thomas Barton Reserve Medoc *75CL',\n",
       " 'Thomas Barton Reserve Medoc Privee *75CL',\n",
       " 'Thomas Barton Reserve St Emilion *75CL',\n",
       " 'Veuve Du Vernay Ice *75CL',\n",
       " 'Veuve Du Vernay Ice Rose *75CL',\n",
       " 'Warwick Cabernet Franc *75CL',\n",
       " 'Warwick First Lady Cabernet Sauvignon *75CL',\n",
       " 'Warwick First Lady Chardonnay *75CL',\n",
       " 'Warwick First Lady Dry Rose *75CL',\n",
       " 'Warwick Professor Black Sauvignon Blanc *75CL',\n",
       " 'Warwick Three Cape Ladies *75CL',\n",
       " 'Whispering Angel Rose Wine *75cl',\n",
       " 'Wolf Blass Black Label *75CL',\n",
       " 'Wolf Blass Gold Label Shiraz *75CL',\n",
       " 'Wolf Blass Yellow Label Cabernet Sauvignon *75CL',\n",
       " 'Wolf Blass Yellow Label Chardonnay *75CL',\n",
       " 'Wolf Blass Yellow Label Shiraz *75CL']"
      ]
     },
     "execution_count": 7,
     "metadata": {},
     "output_type": "execute_result"
    }
   ],
   "source": [
    "names"
   ]
  },
  {
   "cell_type": "code",
   "execution_count": 8,
   "metadata": {
    "colab": {
     "base_uri": "https://localhost:8080/",
     "height": 204
    },
    "colab_type": "code",
    "id": "_1n_XuBXDazk",
    "outputId": "b8dcfdb4-3d5a-41c8-8d02-35255b6714d3",
    "scrolled": true
   },
   "outputs": [
    {
     "data": {
      "text/html": [
       "<div>\n",
       "<style scoped>\n",
       "    .dataframe tbody tr th:only-of-type {\n",
       "        vertical-align: middle;\n",
       "    }\n",
       "\n",
       "    .dataframe tbody tr th {\n",
       "        vertical-align: top;\n",
       "    }\n",
       "\n",
       "    .dataframe thead th {\n",
       "        text-align: right;\n",
       "    }\n",
       "</style>\n",
       "<table border=\"1\" class=\"dataframe\">\n",
       "  <thead>\n",
       "    <tr style=\"text-align: right;\">\n",
       "      <th></th>\n",
       "      <th>Name</th>\n",
       "      <th>Images</th>\n",
       "      <th>Price</th>\n",
       "    </tr>\n",
       "  </thead>\n",
       "  <tbody>\n",
       "    <tr>\n",
       "      <th>0</th>\n",
       "      <td>Ao Yun Chinese Red *75cl</td>\n",
       "      <td>https://www.cellarcentral.ng/image/cache/catal...</td>\n",
       "      <td>₦105,000.00</td>\n",
       "    </tr>\n",
       "    <tr>\n",
       "      <th>1</th>\n",
       "      <td>B&amp;G Chateauneuf du Pape *75CL</td>\n",
       "      <td>https://www.cellarcentral.ng/image/cache/catal...</td>\n",
       "      <td>₦8,000.00</td>\n",
       "    </tr>\n",
       "    <tr>\n",
       "      <th>2</th>\n",
       "      <td>B&amp;G Cuvee Speciale Red *75CL</td>\n",
       "      <td>https://www.cellarcentral.ng/image/cache/catal...</td>\n",
       "      <td>₦1,600.00</td>\n",
       "    </tr>\n",
       "    <tr>\n",
       "      <th>3</th>\n",
       "      <td>B&amp;G Cuvee Speciale Rose *75CL</td>\n",
       "      <td>https://www.cellarcentral.ng/image/cache/catal...</td>\n",
       "      <td>₦1,600.00</td>\n",
       "    </tr>\n",
       "    <tr>\n",
       "      <th>4</th>\n",
       "      <td>B&amp;G Cuvee Speciale White *75CL</td>\n",
       "      <td>https://www.cellarcentral.ng/image/cache/catal...</td>\n",
       "      <td>₦1,600.00</td>\n",
       "    </tr>\n",
       "  </tbody>\n",
       "</table>\n",
       "</div>"
      ],
      "text/plain": [
       "                             Name  \\\n",
       "0        Ao Yun Chinese Red *75cl   \n",
       "1   B&G Chateauneuf du Pape *75CL   \n",
       "2    B&G Cuvee Speciale Red *75CL   \n",
       "3   B&G Cuvee Speciale Rose *75CL   \n",
       "4  B&G Cuvee Speciale White *75CL   \n",
       "\n",
       "                                              Images        Price  \n",
       "0  https://www.cellarcentral.ng/image/cache/catal...  ₦105,000.00  \n",
       "1  https://www.cellarcentral.ng/image/cache/catal...    ₦8,000.00  \n",
       "2  https://www.cellarcentral.ng/image/cache/catal...    ₦1,600.00  \n",
       "3  https://www.cellarcentral.ng/image/cache/catal...    ₦1,600.00  \n",
       "4  https://www.cellarcentral.ng/image/cache/catal...    ₦1,600.00  "
      ]
     },
     "execution_count": 8,
     "metadata": {},
     "output_type": "execute_result"
    }
   ],
   "source": [
    "cellar_central_df = pd.DataFrame({\"Name\":names, \"Images\": images, \"Price\": price})\n",
    "cellar_central_df.head()"
   ]
  },
  {
   "cell_type": "code",
   "execution_count": 9,
   "metadata": {
    "colab": {
     "base_uri": "https://localhost:8080/",
     "height": 85
    },
    "colab_type": "code",
    "id": "LD9FNqWaD_aL",
    "outputId": "34233074-5887-4118-827d-4f2c6a9edd60"
   },
   "outputs": [
    {
     "ename": "NameError",
     "evalue": "name 'wine_house_df' is not defined",
     "output_type": "error",
     "traceback": [
      "\u001b[1;31m---------------------------------------------------------------------------\u001b[0m",
      "\u001b[1;31mNameError\u001b[0m                                 Traceback (most recent call last)",
      "\u001b[1;32m<ipython-input-9-a825affc1e20>\u001b[0m in \u001b[0;36m<module>\u001b[1;34m\u001b[0m\n\u001b[1;32m----> 1\u001b[1;33m \u001b[0mwine_house_df\u001b[0m\u001b[1;33m.\u001b[0m\u001b[0misnull\u001b[0m\u001b[1;33m(\u001b[0m\u001b[1;33m)\u001b[0m\u001b[1;33m.\u001b[0m\u001b[0msum\u001b[0m\u001b[1;33m(\u001b[0m\u001b[1;33m)\u001b[0m\u001b[1;33m\u001b[0m\u001b[1;33m\u001b[0m\u001b[0m\n\u001b[0m",
      "\u001b[1;31mNameError\u001b[0m: name 'wine_house_df' is not defined"
     ]
    }
   ],
   "source": [
    "wine_house_df.isnull().sum()"
   ]
  },
  {
   "cell_type": "code",
   "execution_count": 11,
   "metadata": {
    "colab": {},
    "colab_type": "code",
    "id": "RnRTMmhbEixS"
   },
   "outputs": [],
   "source": [
    "cellar_central_df.to_csv(\"CellarCentral.csv\", index=False)"
   ]
  },
  {
   "cell_type": "markdown",
   "metadata": {
    "colab_type": "text",
    "id": "luA9UjpXfZJ_"
   },
   "source": []
  }
 ],
 "metadata": {
  "colab": {
   "name": "WineHouseNigeria.ipynb",
   "provenance": []
  },
  "hide_input": false,
  "kernelspec": {
   "display_name": "Python 3",
   "language": "python",
   "name": "python3"
  },
  "language_info": {
   "codemirror_mode": {
    "name": "ipython",
    "version": 3
   },
   "file_extension": ".py",
   "mimetype": "text/x-python",
   "name": "python",
   "nbconvert_exporter": "python",
   "pygments_lexer": "ipython3",
   "version": "3.7.3"
  },
  "toc": {
   "base_numbering": 1,
   "nav_menu": {},
   "number_sections": true,
   "sideBar": true,
   "skip_h1_title": false,
   "title_cell": "Table of Contents",
   "title_sidebar": "Contents",
   "toc_cell": false,
   "toc_position": {},
   "toc_section_display": true,
   "toc_window_display": false
  }
 },
 "nbformat": 4,
 "nbformat_minor": 1
}
