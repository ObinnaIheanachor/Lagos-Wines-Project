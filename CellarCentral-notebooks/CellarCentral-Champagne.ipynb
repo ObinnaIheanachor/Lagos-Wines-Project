{
 "cells": [
  {
   "cell_type": "code",
   "execution_count": 1,
   "metadata": {
    "colab": {},
    "colab_type": "code",
    "id": "CA769aHqX-tn"
   },
   "outputs": [],
   "source": [
    "#Import tools\n",
    "\n",
    "import requests\n",
    "from requests import get\n",
    "from bs4 import BeautifulSoup\n",
    "import pandas as pd\n",
    "import numpy as np\n",
    "\n",
    "from time import sleep\n",
    "from random import randint"
   ]
  },
  {
   "cell_type": "code",
   "execution_count": 2,
   "metadata": {
    "colab": {
     "base_uri": "https://localhost:8080/",
     "height": 34
    },
    "colab_type": "code",
    "id": "txXg7QN1Ym-F",
    "outputId": "7ed05d6e-c102-4c5b-f2bd-b254cda17a79"
   },
   "outputs": [
    {
     "data": {
      "text/plain": [
       "array([1, 2, 3])"
      ]
     },
     "execution_count": 2,
     "metadata": {},
     "output_type": "execute_result"
    }
   ],
   "source": [
    "pages = np.arange(1, 4, 1)\n",
    "pages"
   ]
  },
  {
   "cell_type": "code",
   "execution_count": 1,
   "metadata": {},
   "outputs": [],
   "source": [
    "# https://www.cellarcentral.ng/index.php?_route_=champagne-and-sparkling&page=2"
   ]
  },
  {
   "cell_type": "code",
   "execution_count": 4,
   "metadata": {
    "colab": {},
    "colab_type": "code",
    "id": "sRy1444walLx"
   },
   "outputs": [],
   "source": [
    "#initialize empty lists where we'll store our data\n",
    "images = []\n",
    "names = []\n",
    "price = []"
   ]
  },
  {
   "cell_type": "code",
   "execution_count": 5,
   "metadata": {
    "colab": {},
    "colab_type": "code",
    "id": "oxc2Vti8mD2X"
   },
   "outputs": [],
   "source": [
    "\n",
    "for page in pages: \n",
    "\n",
    "  page = requests.get(\"https://www.cellarcentral.ng/index.php?_route_=champagne-and-sparkling&page=\" + str(page))\n",
    "\n",
    "  soup = BeautifulSoup(page.text, 'html.parser')\n",
    "  wine_div = soup.find_all('div', class_= \"product-thumb\")\n",
    "  \n",
    "  sleep(randint(2,10))\n",
    "\n",
    "  for container in wine_div:\n",
    "      name = container.find(\"div\", class_=\"caption\").a.text.strip()\n",
    "      names.append(name)\n",
    "\n",
    "      image = container.find(\"div\", class_=\"image\").img[\"src\"]\n",
    "      images.append(image)\n",
    "\n",
    "      cost = container.find(\"p\", class_=\"price\").text.strip()\n",
    "      price.append(cost)\n",
    "\n"
   ]
  },
  {
   "cell_type": "code",
   "execution_count": 5,
   "metadata": {},
   "outputs": [
    {
     "data": {
      "text/plain": [
       "['₦27,500.00',\n",
       " '₦46,200.00',\n",
       " '₦62,700.00',\n",
       " '₦30,300.00',\n",
       " '₦68,000.00',\n",
       " '₦84,000.00',\n",
       " '₦68,000.00',\n",
       " '₦108,000.00',\n",
       " '₦3,250.00',\n",
       " '₦4,500.00',\n",
       " '₦7,000.00',\n",
       " '₦7,000.00',\n",
       " '₦4,400.00',\n",
       " '₦4,400.00',\n",
       " '₦72,800.00',\n",
       " '₦14,800.00',\n",
       " '₦15,150.00',\n",
       " '₦25,500.00',\n",
       " '₦75,000.00',\n",
       " '₦150,000.00',\n",
       " '₦4,600.00',\n",
       " '₦4,300.00',\n",
       " '₦4,500.00',\n",
       " '₦4,300.00',\n",
       " '₦1,650.00',\n",
       " '₦1,950.00',\n",
       " '₦1,950.00',\n",
       " '₦1,950.00',\n",
       " '₦15,500.00',\n",
       " '₦23,500.00',\n",
       " '₦17,000.00',\n",
       " '₦20,000.00',\n",
       " '₦19,300.00',\n",
       " '₦15,500.00',\n",
       " '₦15,500.00',\n",
       " '₦62,300.00',\n",
       " '₦72,000.00',\n",
       " '₦31,800.00',\n",
       " '₦22,000.00',\n",
       " '₦4,500.00',\n",
       " '₦17,600.00',\n",
       " '₦17,600.00',\n",
       " '₦21,800.00',\n",
       " '₦20,200.00',\n",
       " '₦2,500.00',\n",
       " '₦2,500.00']"
      ]
     },
     "execution_count": 5,
     "metadata": {},
     "output_type": "execute_result"
    }
   ],
   "source": [
    "price"
   ]
  },
  {
   "cell_type": "code",
   "execution_count": 6,
   "metadata": {
    "colab": {
     "base_uri": "https://localhost:8080/",
     "height": 68
    },
    "colab_type": "code",
    "id": "kZ2T-NJTqRUN",
    "outputId": "f11d6abe-caea-4ccd-b14c-b0d3557bcfeb"
   },
   "outputs": [
    {
     "name": "stdout",
     "output_type": "stream",
     "text": [
      "46\n",
      "46\n",
      "46\n"
     ]
    }
   ],
   "source": [
    "print(len(names))\n",
    "print(len(images))\n",
    "print(len(price))"
   ]
  },
  {
   "cell_type": "code",
   "execution_count": 7,
   "metadata": {},
   "outputs": [
    {
     "data": {
      "text/plain": [
       "['Bollinger Brut *75CL',\n",
       " 'Bollinger La Grande Annee Brut *75CL',\n",
       " 'Bollinger La Grande Annee Rose *75CL',\n",
       " 'Bollinger Rose *75CL',\n",
       " 'Dom Perignon Brut  *75CL',\n",
       " 'Dom Perignon Brut with Glasses *75cl',\n",
       " 'Dom Perignon Jeff Koons (LE) *75cl',\n",
       " 'Dom Perignon Rose  *75CL',\n",
       " 'Fantinel Prosecco Brut *75CL',\n",
       " 'Fantinel Prosecco Rose *75CL',\n",
       " 'Haute Couture French Bubbles Blanc *75CL',\n",
       " 'Haute Couture French Bubbles Rose *75CL',\n",
       " 'Krone Sparkling Night Nectar  Demi Sec*75cl',\n",
       " 'Krone Sparkling Night Nectar Rose  *75cl',\n",
       " 'Krug Grand Cuvee Brut *75CL',\n",
       " 'Laurent Perrier Brut *75CL',\n",
       " 'Laurent Perrier Demi-Sec *75CL',\n",
       " 'Laurent Perrier Rose *75CL',\n",
       " 'Louis Roederer Cristal Brut *75CL',\n",
       " 'Louis Roederer Cristal Rose *75CL',\n",
       " 'Martini Asti *75CL',\n",
       " 'Martini Brut *75CL',\n",
       " 'Martini Prosecco *75CL',\n",
       " 'Martini Rose *75CL',\n",
       " 'Mateus Rose *75CL',\n",
       " 'Mateus Sparkling Baga & Shiraz Brut Rose *75CL',\n",
       " 'Mateus Sparkling Baga & Shiraz Demi Sec *75CL',\n",
       " 'Mateus Sparkling Maria Gomes & Muscat *75cl',\n",
       " 'Moet & Chandon Brut Imperial *75CL',\n",
       " 'Moet & Chandon Ice Imperial *75CL',\n",
       " 'Moet & Chandon Nectar Imperial *75CL',\n",
       " 'Moet & Chandon Nectar Rose Imperial *75CL',\n",
       " 'Moet & Chandon Rose Imperial *75CL',\n",
       " 'Moet Brut Gold Bottle *70CL',\n",
       " 'Moet Brut Imperial 150 Years *75cl',\n",
       " 'Perrier-Jouet Belle Epoque *75CL',\n",
       " 'Perrier-Jouet Belle Epoque Rose *75CL',\n",
       " 'Perrier-Jouet Blason Rose *75CL',\n",
       " 'Perrier-Jouet Grand Brut *75CL',\n",
       " 'The Independent Prosecco *75CL',\n",
       " 'Veuve Clicquot Brut *75CL',\n",
       " 'Veuve Clicquot Brut Signature Box * 75cl',\n",
       " 'Veuve Clicquot Rich *75CL',\n",
       " 'Veuve Clicquot Rose *75CL',\n",
       " 'Veuve Du Vernay Ice *75CL',\n",
       " 'Veuve Du Vernay Ice Rose *75CL']"
      ]
     },
     "execution_count": 7,
     "metadata": {},
     "output_type": "execute_result"
    }
   ],
   "source": [
    "names"
   ]
  },
  {
   "cell_type": "code",
   "execution_count": 8,
   "metadata": {
    "colab": {
     "base_uri": "https://localhost:8080/",
     "height": 204
    },
    "colab_type": "code",
    "id": "_1n_XuBXDazk",
    "outputId": "b8dcfdb4-3d5a-41c8-8d02-35255b6714d3",
    "scrolled": true
   },
   "outputs": [
    {
     "data": {
      "text/html": [
       "<div>\n",
       "<style scoped>\n",
       "    .dataframe tbody tr th:only-of-type {\n",
       "        vertical-align: middle;\n",
       "    }\n",
       "\n",
       "    .dataframe tbody tr th {\n",
       "        vertical-align: top;\n",
       "    }\n",
       "\n",
       "    .dataframe thead th {\n",
       "        text-align: right;\n",
       "    }\n",
       "</style>\n",
       "<table border=\"1\" class=\"dataframe\">\n",
       "  <thead>\n",
       "    <tr style=\"text-align: right;\">\n",
       "      <th></th>\n",
       "      <th>Name</th>\n",
       "      <th>Images</th>\n",
       "      <th>Price</th>\n",
       "    </tr>\n",
       "  </thead>\n",
       "  <tbody>\n",
       "    <tr>\n",
       "      <th>0</th>\n",
       "      <td>Bollinger Brut *75CL</td>\n",
       "      <td>https://www.cellarcentral.ng/image/cache/catal...</td>\n",
       "      <td>₦27,500.00</td>\n",
       "    </tr>\n",
       "    <tr>\n",
       "      <th>1</th>\n",
       "      <td>Bollinger La Grande Annee Brut *75CL</td>\n",
       "      <td>https://www.cellarcentral.ng/image/cache/catal...</td>\n",
       "      <td>₦46,200.00</td>\n",
       "    </tr>\n",
       "    <tr>\n",
       "      <th>2</th>\n",
       "      <td>Bollinger La Grande Annee Rose *75CL</td>\n",
       "      <td>https://www.cellarcentral.ng/image/cache/catal...</td>\n",
       "      <td>₦62,700.00</td>\n",
       "    </tr>\n",
       "    <tr>\n",
       "      <th>3</th>\n",
       "      <td>Bollinger Rose *75CL</td>\n",
       "      <td>https://www.cellarcentral.ng/image/cache/catal...</td>\n",
       "      <td>₦30,300.00</td>\n",
       "    </tr>\n",
       "    <tr>\n",
       "      <th>4</th>\n",
       "      <td>Dom Perignon Brut  *75CL</td>\n",
       "      <td>https://www.cellarcentral.ng/image/cache/catal...</td>\n",
       "      <td>₦68,000.00</td>\n",
       "    </tr>\n",
       "  </tbody>\n",
       "</table>\n",
       "</div>"
      ],
      "text/plain": [
       "                                   Name  \\\n",
       "0                  Bollinger Brut *75CL   \n",
       "1  Bollinger La Grande Annee Brut *75CL   \n",
       "2  Bollinger La Grande Annee Rose *75CL   \n",
       "3                  Bollinger Rose *75CL   \n",
       "4              Dom Perignon Brut  *75CL   \n",
       "\n",
       "                                              Images       Price  \n",
       "0  https://www.cellarcentral.ng/image/cache/catal...  ₦27,500.00  \n",
       "1  https://www.cellarcentral.ng/image/cache/catal...  ₦46,200.00  \n",
       "2  https://www.cellarcentral.ng/image/cache/catal...  ₦62,700.00  \n",
       "3  https://www.cellarcentral.ng/image/cache/catal...  ₦30,300.00  \n",
       "4  https://www.cellarcentral.ng/image/cache/catal...  ₦68,000.00  "
      ]
     },
     "execution_count": 8,
     "metadata": {},
     "output_type": "execute_result"
    }
   ],
   "source": [
    "cellar_central_df1 = pd.DataFrame({\"Name\":names, \"Images\": images, \"Price\": price})\n",
    "cellar_central_df1.head()"
   ]
  },
  {
   "cell_type": "code",
   "execution_count": 20,
   "metadata": {},
   "outputs": [
    {
     "data": {
      "text/plain": [
       "0                        Bollinger Brut *75CL sparkling\n",
       "1        Bollinger La Grande Annee Brut *75CL sparkling\n",
       "2        Bollinger La Grande Annee Rose *75CL sparkling\n",
       "3                        Bollinger Rose *75CL sparkling\n",
       "4                    Dom Perignon Brut  *75CL sparkling\n",
       "5        Dom Perignon Brut with Glasses *75cl sparkling\n",
       "6          Dom Perignon Jeff Koons (LE) *75cl sparkling\n",
       "7                    Dom Perignon Rose  *75CL sparkling\n",
       "8                Fantinel Prosecco Brut *75CL sparkling\n",
       "9                Fantinel Prosecco Rose *75CL sparkling\n",
       "10    Haute Couture French Bubbles Blanc *75CL spark...\n",
       "11    Haute Couture French Bubbles Rose *75CL sparkling\n",
       "12    Krone Sparkling Night Nectar  Demi Sec*75cl sp...\n",
       "13    Krone Sparkling Night Nectar Rose  *75cl spark...\n",
       "14                Krug Grand Cuvee Brut *75CL sparkling\n",
       "15                 Laurent Perrier Brut *75CL sparkling\n",
       "16             Laurent Perrier Demi-Sec *75CL sparkling\n",
       "17                 Laurent Perrier Rose *75CL sparkling\n",
       "18          Louis Roederer Cristal Brut *75CL sparkling\n",
       "19          Louis Roederer Cristal Rose *75CL sparkling\n",
       "20                         Martini Asti *75CL sparkling\n",
       "21                         Martini Brut *75CL sparkling\n",
       "22                     Martini Prosecco *75CL sparkling\n",
       "23                         Martini Rose *75CL sparkling\n",
       "24                          Mateus Rose *75CL sparkling\n",
       "25    Mateus Sparkling Baga & Shiraz Brut Rose *75CL...\n",
       "26    Mateus Sparkling Baga & Shiraz Demi Sec *75CL ...\n",
       "27    Mateus Sparkling Maria Gomes & Muscat *75cl sp...\n",
       "28         Moet & Chandon Brut Imperial *75CL sparkling\n",
       "29          Moet & Chandon Ice Imperial *75CL sparkling\n",
       "30       Moet & Chandon Nectar Imperial *75CL sparkling\n",
       "31    Moet & Chandon Nectar Rose Imperial *75CL spar...\n",
       "32         Moet & Chandon Rose Imperial *75CL sparkling\n",
       "33                Moet Brut Gold Bottle *70CL sparkling\n",
       "34         Moet Brut Imperial 150 Years *75cl sparkling\n",
       "35           Perrier-Jouet Belle Epoque *75CL sparkling\n",
       "36      Perrier-Jouet Belle Epoque Rose *75CL sparkling\n",
       "37            Perrier-Jouet Blason Rose *75CL sparkling\n",
       "38             Perrier-Jouet Grand Brut *75CL sparkling\n",
       "39             The Independent Prosecco *75CL sparkling\n",
       "40                  Veuve Clicquot Brut *75CL sparkling\n",
       "41    Veuve Clicquot Brut Signature Box * 75cl spark...\n",
       "42                  Veuve Clicquot Rich *75CL sparkling\n",
       "43                  Veuve Clicquot Rose *75CL sparkling\n",
       "44                  Veuve Du Vernay Ice *75CL sparkling\n",
       "45             Veuve Du Vernay Ice Rose *75CL sparkling\n",
       "Name: Name, dtype: object"
      ]
     },
     "execution_count": 20,
     "metadata": {},
     "output_type": "execute_result"
    }
   ],
   "source": [
    "Name = cellar_central_df1[\"Name\"] + \" sparkling\"\n",
    "Name"
   ]
  },
  {
   "cell_type": "code",
   "execution_count": 15,
   "metadata": {},
   "outputs": [
    {
     "data": {
      "text/html": [
       "<div>\n",
       "<style scoped>\n",
       "    .dataframe tbody tr th:only-of-type {\n",
       "        vertical-align: middle;\n",
       "    }\n",
       "\n",
       "    .dataframe tbody tr th {\n",
       "        vertical-align: top;\n",
       "    }\n",
       "\n",
       "    .dataframe thead th {\n",
       "        text-align: right;\n",
       "    }\n",
       "</style>\n",
       "<table border=\"1\" class=\"dataframe\">\n",
       "  <thead>\n",
       "    <tr style=\"text-align: right;\">\n",
       "      <th></th>\n",
       "      <th>Name</th>\n",
       "      <th>Images</th>\n",
       "      <th>Price</th>\n",
       "    </tr>\n",
       "  </thead>\n",
       "  <tbody>\n",
       "    <tr>\n",
       "      <th>0</th>\n",
       "      <td>Ao Yun Chinese Red *75cl</td>\n",
       "      <td>https://www.cellarcentral.ng/image/cache/catal...</td>\n",
       "      <td>₦105,000.00</td>\n",
       "    </tr>\n",
       "    <tr>\n",
       "      <th>1</th>\n",
       "      <td>B&amp;G Chateauneuf du Pape *75CL</td>\n",
       "      <td>https://www.cellarcentral.ng/image/cache/catal...</td>\n",
       "      <td>₦8,000.00</td>\n",
       "    </tr>\n",
       "    <tr>\n",
       "      <th>2</th>\n",
       "      <td>B&amp;G Cuvee Speciale Red *75CL</td>\n",
       "      <td>https://www.cellarcentral.ng/image/cache/catal...</td>\n",
       "      <td>₦1,600.00</td>\n",
       "    </tr>\n",
       "    <tr>\n",
       "      <th>3</th>\n",
       "      <td>B&amp;G Cuvee Speciale Rose *75CL</td>\n",
       "      <td>https://www.cellarcentral.ng/image/cache/catal...</td>\n",
       "      <td>₦1,600.00</td>\n",
       "    </tr>\n",
       "    <tr>\n",
       "      <th>4</th>\n",
       "      <td>B&amp;G Cuvee Speciale White *75CL</td>\n",
       "      <td>https://www.cellarcentral.ng/image/cache/catal...</td>\n",
       "      <td>₦1,600.00</td>\n",
       "    </tr>\n",
       "  </tbody>\n",
       "</table>\n",
       "</div>"
      ],
      "text/plain": [
       "                             Name  \\\n",
       "0        Ao Yun Chinese Red *75cl   \n",
       "1   B&G Chateauneuf du Pape *75CL   \n",
       "2    B&G Cuvee Speciale Red *75CL   \n",
       "3   B&G Cuvee Speciale Rose *75CL   \n",
       "4  B&G Cuvee Speciale White *75CL   \n",
       "\n",
       "                                              Images        Price  \n",
       "0  https://www.cellarcentral.ng/image/cache/catal...  ₦105,000.00  \n",
       "1  https://www.cellarcentral.ng/image/cache/catal...    ₦8,000.00  \n",
       "2  https://www.cellarcentral.ng/image/cache/catal...    ₦1,600.00  \n",
       "3  https://www.cellarcentral.ng/image/cache/catal...    ₦1,600.00  \n",
       "4  https://www.cellarcentral.ng/image/cache/catal...    ₦1,600.00  "
      ]
     },
     "execution_count": 15,
     "metadata": {},
     "output_type": "execute_result"
    }
   ],
   "source": [
    "cellar_central_df2 = pd.read_csv(\"CellarCentral.csv\")\n",
    "cellar_central_df2.head()"
   ]
  },
  {
   "cell_type": "code",
   "execution_count": 16,
   "metadata": {},
   "outputs": [
    {
     "data": {
      "text/plain": [
       "(123, 3)"
      ]
     },
     "execution_count": 16,
     "metadata": {},
     "output_type": "execute_result"
    }
   ],
   "source": [
    "cellar_central_df2.shape"
   ]
  },
  {
   "cell_type": "code",
   "execution_count": 29,
   "metadata": {},
   "outputs": [
    {
     "data": {
      "text/plain": [
       "(169, 3)"
      ]
     },
     "execution_count": 29,
     "metadata": {},
     "output_type": "execute_result"
    }
   ],
   "source": [
    "cellar_central_df = cellar_central_df2.append(cellar_central_df1)\n",
    "cellar_central_df.shape"
   ]
  },
  {
   "cell_type": "code",
   "execution_count": 32,
   "metadata": {},
   "outputs": [
    {
     "data": {
      "text/plain": [
       "Name      153\n",
       "Images    153\n",
       "Price      89\n",
       "dtype: int64"
      ]
     },
     "execution_count": 32,
     "metadata": {},
     "output_type": "execute_result"
    }
   ],
   "source": [
    "cellar_central_df.nunique()"
   ]
  },
  {
   "cell_type": "code",
   "execution_count": 33,
   "metadata": {},
   "outputs": [
    {
     "data": {
      "text/plain": [
       "(153, 3)"
      ]
     },
     "execution_count": 33,
     "metadata": {},
     "output_type": "execute_result"
    }
   ],
   "source": [
    "cellar_central_df.drop_duplicates(inplace=True)\n",
    "cellar_central_df.shape"
   ]
  },
  {
   "cell_type": "code",
   "execution_count": 34,
   "metadata": {
    "colab": {},
    "colab_type": "code",
    "id": "RnRTMmhbEixS"
   },
   "outputs": [],
   "source": [
    "cellar_central_df.to_csv(\"CellarCentral.csv\", index=False)"
   ]
  },
  {
   "cell_type": "markdown",
   "metadata": {
    "colab_type": "text",
    "id": "luA9UjpXfZJ_"
   },
   "source": []
  }
 ],
 "metadata": {
  "colab": {
   "name": "WineHouseNigeria.ipynb",
   "provenance": []
  },
  "hide_input": false,
  "kernelspec": {
   "display_name": "Python 3",
   "language": "python",
   "name": "python3"
  },
  "language_info": {
   "codemirror_mode": {
    "name": "ipython",
    "version": 3
   },
   "file_extension": ".py",
   "mimetype": "text/x-python",
   "name": "python",
   "nbconvert_exporter": "python",
   "pygments_lexer": "ipython3",
   "version": "3.7.3"
  },
  "toc": {
   "base_numbering": 1,
   "nav_menu": {},
   "number_sections": true,
   "sideBar": true,
   "skip_h1_title": false,
   "title_cell": "Table of Contents",
   "title_sidebar": "Contents",
   "toc_cell": false,
   "toc_position": {},
   "toc_section_display": true,
   "toc_window_display": false
  }
 },
 "nbformat": 4,
 "nbformat_minor": 1
}
