{
 "cells": [
  {
   "cell_type": "code",
   "execution_count": null,
   "metadata": {},
   "outputs": [],
   "source": [
    "# https://www.konga.com/category/wines-2004?page=2\n",
    "# class=\"bbe45_3oExY _22339_3gQb9\" container\n",
    "# li class=\"bbe45_3oExY _22339_3gQb9\">\n",
    "# <img data-expand=\"100\" data-src=\" image\n",
    "# <span class=\"d7c0f_sJAqi\"> price\n",
    "# <h3> name of wine \n",
    "# class=\"f5e10_VzEXF _59c59_3-MyH lazyloaded \""
   ]
  },
  {
   "cell_type": "code",
   "execution_count": null,
   "metadata": {},
   "outputs": [],
   "source": [
    "https://www.konga.com/category/champagnes-2008?page=2"
   ]
  },
  {
   "cell_type": "code",
   "execution_count": 1,
   "metadata": {},
   "outputs": [
    {
     "name": "stdout",
     "output_type": "stream",
     "text": [
      "end of page 0\n",
      "end of page 1\n",
      "[['Giovanni Ice Rose - Single Bottle', '\"https://www-konga-com-res.cloudinary.com/w_auto,f_auto,fl_lossy,dpr_auto,q_auto/media/catalog/product/P/N/_1574414595.jpg\"', '₦1,700'], ['Andre Rose - 75cl, 10% Acl', '\"https://www-konga-com-res.cloudinary.com/w_auto,f_auto,fl_lossy,dpr_auto,q_auto/media/catalog/product/L/C/118566_1521725925.jpg\"', '₦2,800'], ['Glenfiddich 12 Year Old Single Bottle...', '\"https://www-konga-com-res.cloudinary.com/w_auto,f_auto,fl_lossy,dpr_auto,q_auto/media/catalog/product/T/B/118566_1544513820.jpg\"', '₦9,330'], ['Veuve Du Vernay Ice Rose 75cl-Single ...', '\"https://www-konga-com-res.cloudinary.com/w_auto,f_auto,fl_lossy,dpr_auto,q_auto/media/catalog/product/T/H/118566_1542444300.jpg\"', '₦3,200'], ['Martini Rose -75cl Single Bottle', '\"https://www-konga-com-res.cloudinary.com/w_auto,f_auto,fl_lossy,dpr_auto,q_auto/media/catalog/product/N/Q/118566_1544517094.jpg\"', '₦3,810'], ['Giovanni Ice Rose- Single Bottle', '\"https://www-konga-com-res.cloudinary.com/w_auto,f_auto,fl_lossy,dpr_auto,q_auto/media/catalog/product/R/B/_1574414646.jpg\"', '₦1,700'], ['Giovanni Giovianni Ice Rose 750ml - 1...', '\"https://www-konga-com-res.cloudinary.com/w_auto,f_auto,fl_lossy,dpr_auto,q_auto/media/catalog/product/I/L/_1574234588.jpg\"', '₦20,400'], ['Armand De Brignac Ace Of Spades Brut ...', '\"https://www-konga-com-res.cloudinary.com/w_auto,f_auto,fl_lossy,dpr_auto,q_auto/media/catalog/product/D/H/118566_1565882281.jpg\"', '₦110,200'], ['Luc Belaire Rosé', '\"https://www-konga-com-res.cloudinary.com/w_auto,f_auto,fl_lossy,dpr_auto,q_auto/media/catalog/product/I/G/118566_1583234948.jpg\"', '₦10,800'], ['Wild Turkey 101 American Whiskey-75cl...', '\"https://www-konga-com-res.cloudinary.com/w_auto,f_auto,fl_lossy,dpr_auto,q_auto/media/catalog/product/W/L/118566_1535528866.jpg\"', '₦6,070'], ['Dom Perignon Brut Gb- Single Bottle', '\"https://www-konga-com-res.cloudinary.com/w_auto,f_auto,fl_lossy,dpr_auto,q_auto/media/catalog/product/A/C/118566_1582029082.jpg\"', '₦71,600'], ['Moet & Chandon Nectar Imperial Rose L...', '\"https://www-konga-com-res.cloudinary.com/w_auto,f_auto,fl_lossy,dpr_auto,q_auto/media/catalog/product/B/T/118566_1550067746.jpg\"', '₦22,040'], ['Remy Martin VSOP - 70cl - Fine Champa...', '\"https://www-konga-com-res.cloudinary.com/w_auto,f_auto,fl_lossy,dpr_auto,q_auto/media/catalog/product/B/E/146819_1546436260.jpg\"', '₦21,000'], ['Martell Vsop Blue Swift 75cl Acl 40%,...', '\"https://www-konga-com-res.cloudinary.com/w_auto,f_auto,fl_lossy,dpr_auto,q_auto/media/catalog/product/Q/L/118566_1542103439.jpg\"', '₦16,770'], ['Martell Vs Single Distillery -70cl, 4...', '\"https://www-konga-com-res.cloudinary.com/w_auto,f_auto,fl_lossy,dpr_auto,q_auto/media/catalog/product/O/O/118566_1542104476.jpg\"', '₦10,140'], ['Moet & Chandon Champagne 2000 Vintage...', '\"https://www-konga-com-res.cloudinary.com/w_auto,f_auto,fl_lossy,dpr_auto,q_auto/media/catalog/product/N/Z/136323_1532080609.jpg\"', '₦32,500'], ['Moet & Chandon Rose Imperial Flower G...', '\"https://www-konga-com-res.cloudinary.com/w_auto,f_auto,fl_lossy,dpr_auto,q_auto/media/catalog/product/H/N/136323_1531999981.jpg\"', '₦42,000'], ['Brut', '\"https://www-konga-com-res.cloudinary.com/w_auto,f_auto,fl_lossy,dpr_auto,q_auto/media/catalog/product/Q/L/150660_1552043638.jpg\"', '₦85,000'], ['Piper Heidsieck Cuvee Jean-Paul Gault...', '\"https://www-konga-com-res.cloudinary.com/w_auto,f_auto,fl_lossy,dpr_auto,q_auto/media/catalog/product/M/I/136323_1532094762.jpg\"', '₦85,000'], ['Veuve Clicquot 1985 Ponsardin Brut Ro...', '\"https://www-konga-com-res.cloudinary.com/w_auto,f_auto,fl_lossy,dpr_auto,q_auto/media/catalog/product/Y/I/136323_1532095614.jpg\"', '₦95,000'], ['Champagne Chartogne-taillet Cuvée Sai...', '\"https://www-konga-com-res.cloudinary.com/w_auto,f_auto,fl_lossy,dpr_auto,q_auto/media/catalog/product/X/J/136323_1532096453.jpg\"', '₦98,000'], ['Moet & Chandon Brut Imperial 1.5l', '\"https://www-konga-com-res.cloudinary.com/w_auto,f_auto,fl_lossy,dpr_auto,q_auto/media/catalog/product/K/M/136323_1532079982.jpg\"', '₦43,000'], ['Moet & Chandon 2000 Champagne Grand V...', '\"https://www-konga-com-res.cloudinary.com/w_auto,f_auto,fl_lossy,dpr_auto,q_auto/media/catalog/product/Q/V/136323_1532000766.jpg\"', '₦45,000']]\n"
     ]
    }
   ],
   "source": [
    "from selenium import webdriver\n",
    "from selenium.webdriver.support.ui import WebDriverWait\n",
    "from bs4 import BeautifulSoup as soup\n",
    "from time import sleep\n",
    "dic = []\n",
    "chrome_options = webdriver.ChromeOptions()\n",
    "page = 0\n",
    "def getsite(url):\n",
    "    \n",
    "    driver = webdriver.Chrome(\"C:\\Bin\\chromedriver\")\n",
    "   \n",
    "   \n",
    "\n",
    "\n",
    "    driver.get(url)\n",
    "    sleep(20)\n",
    "    html = driver.page_source\n",
    "    page_soup = soup(html, \"lxml\")\n",
    "    containers = page_soup.findAll('li',{'class':'bbe45_3oExY _22339_3gQb9'})\n",
    "    num = 0\n",
    "    for i in containers:\n",
    "        name = i.find('h3')\n",
    "        je= str(i.find('img'))\n",
    "        j = je.rfind('src')\n",
    "        price = i.find(\"span\",{\"class\":\"d7c0f_sJAqi\"}) \n",
    "        if name != None:\n",
    "            dic.append([name.text.strip('\\n'),je[j+4:].strip('/>'),price.text.strip('\\n')])\n",
    "            \n",
    "            #print()\n",
    "            #print(bedetc.text.split())\n",
    "            #num = num + 1\n",
    "            \n",
    "    driver.close()\n",
    "            \n",
    "    \n",
    "    \n",
    "    \n",
    "urll = 'https://www.konga.com/category/champagnes-2008'\n",
    "\n",
    "for ur in range(1,3):\n",
    "    url = urll + '?page=' + str(ur) \n",
    "    getsite(url)\n",
    "    print('end of page',page)\n",
    "    page = page + 1\n",
    "    \n",
    "\n",
    "print(dic)"
   ]
  },
  {
   "cell_type": "code",
   "execution_count": 2,
   "metadata": {},
   "outputs": [],
   "source": [
    "import pandas as pd\n",
    "konga_df1 = pd.DataFrame(dic)"
   ]
  },
  {
   "cell_type": "code",
   "execution_count": 3,
   "metadata": {},
   "outputs": [
    {
     "data": {
      "text/html": [
       "<div>\n",
       "<style scoped>\n",
       "    .dataframe tbody tr th:only-of-type {\n",
       "        vertical-align: middle;\n",
       "    }\n",
       "\n",
       "    .dataframe tbody tr th {\n",
       "        vertical-align: top;\n",
       "    }\n",
       "\n",
       "    .dataframe thead th {\n",
       "        text-align: right;\n",
       "    }\n",
       "</style>\n",
       "<table border=\"1\" class=\"dataframe\">\n",
       "  <thead>\n",
       "    <tr style=\"text-align: right;\">\n",
       "      <th></th>\n",
       "      <th>0</th>\n",
       "      <th>1</th>\n",
       "      <th>2</th>\n",
       "    </tr>\n",
       "  </thead>\n",
       "  <tbody>\n",
       "    <tr>\n",
       "      <th>0</th>\n",
       "      <td>Giovanni Ice Rose - Single Bottle</td>\n",
       "      <td>\"https://www-konga-com-res.cloudinary.com/w_au...</td>\n",
       "      <td>₦1,700</td>\n",
       "    </tr>\n",
       "    <tr>\n",
       "      <th>1</th>\n",
       "      <td>Andre Rose - 75cl, 10% Acl</td>\n",
       "      <td>\"https://www-konga-com-res.cloudinary.com/w_au...</td>\n",
       "      <td>₦2,800</td>\n",
       "    </tr>\n",
       "    <tr>\n",
       "      <th>2</th>\n",
       "      <td>Glenfiddich 12 Year Old Single Bottle...</td>\n",
       "      <td>\"https://www-konga-com-res.cloudinary.com/w_au...</td>\n",
       "      <td>₦9,330</td>\n",
       "    </tr>\n",
       "    <tr>\n",
       "      <th>3</th>\n",
       "      <td>Veuve Du Vernay Ice Rose 75cl-Single ...</td>\n",
       "      <td>\"https://www-konga-com-res.cloudinary.com/w_au...</td>\n",
       "      <td>₦3,200</td>\n",
       "    </tr>\n",
       "    <tr>\n",
       "      <th>4</th>\n",
       "      <td>Martini Rose -75cl Single Bottle</td>\n",
       "      <td>\"https://www-konga-com-res.cloudinary.com/w_au...</td>\n",
       "      <td>₦3,810</td>\n",
       "    </tr>\n",
       "  </tbody>\n",
       "</table>\n",
       "</div>"
      ],
      "text/plain": [
       "                                          0  \\\n",
       "0         Giovanni Ice Rose - Single Bottle   \n",
       "1                Andre Rose - 75cl, 10% Acl   \n",
       "2  Glenfiddich 12 Year Old Single Bottle...   \n",
       "3  Veuve Du Vernay Ice Rose 75cl-Single ...   \n",
       "4          Martini Rose -75cl Single Bottle   \n",
       "\n",
       "                                                   1       2  \n",
       "0  \"https://www-konga-com-res.cloudinary.com/w_au...  ₦1,700  \n",
       "1  \"https://www-konga-com-res.cloudinary.com/w_au...  ₦2,800  \n",
       "2  \"https://www-konga-com-res.cloudinary.com/w_au...  ₦9,330  \n",
       "3  \"https://www-konga-com-res.cloudinary.com/w_au...  ₦3,200  \n",
       "4  \"https://www-konga-com-res.cloudinary.com/w_au...  ₦3,810  "
      ]
     },
     "execution_count": 3,
     "metadata": {},
     "output_type": "execute_result"
    }
   ],
   "source": [
    "konga_df1.head()"
   ]
  },
  {
   "cell_type": "code",
   "execution_count": 4,
   "metadata": {},
   "outputs": [],
   "source": [
    "konga_df1.columns = ['Name','Image','Price']"
   ]
  },
  {
   "cell_type": "code",
   "execution_count": 14,
   "metadata": {},
   "outputs": [
    {
     "data": {
      "text/plain": [
       "(23, 3)"
      ]
     },
     "execution_count": 14,
     "metadata": {},
     "output_type": "execute_result"
    }
   ],
   "source": [
    "konga_df1.shape"
   ]
  },
  {
   "cell_type": "code",
   "execution_count": 10,
   "metadata": {},
   "outputs": [
    {
     "data": {
      "text/html": [
       "<div>\n",
       "<style scoped>\n",
       "    .dataframe tbody tr th:only-of-type {\n",
       "        vertical-align: middle;\n",
       "    }\n",
       "\n",
       "    .dataframe tbody tr th {\n",
       "        vertical-align: top;\n",
       "    }\n",
       "\n",
       "    .dataframe thead th {\n",
       "        text-align: right;\n",
       "    }\n",
       "</style>\n",
       "<table border=\"1\" class=\"dataframe\">\n",
       "  <thead>\n",
       "    <tr style=\"text-align: right;\">\n",
       "      <th></th>\n",
       "      <th>Name</th>\n",
       "      <th>Image</th>\n",
       "      <th>Price</th>\n",
       "    </tr>\n",
       "  </thead>\n",
       "  <tbody>\n",
       "    <tr>\n",
       "      <th>0</th>\n",
       "      <td>(castillo De Espana) Tempranillo Garn...</td>\n",
       "      <td>\"https://www-konga-com-res.cloudinary.com/w_au...</td>\n",
       "      <td>₦1,110</td>\n",
       "    </tr>\n",
       "    <tr>\n",
       "      <th>1</th>\n",
       "      <td>Blossom Hill Soft &amp; Fruity Red Wine 7...</td>\n",
       "      <td>\"https://www-konga-com-res.cloudinary.com/w_au...</td>\n",
       "      <td>₦1,110</td>\n",
       "    </tr>\n",
       "    <tr>\n",
       "      <th>2</th>\n",
       "      <td>Ocean Beach California Red Wine 750ml...</td>\n",
       "      <td>\"https://www-konga-com-res.cloudinary.com/w_au...</td>\n",
       "      <td>₦1,110</td>\n",
       "    </tr>\n",
       "    <tr>\n",
       "      <th>3</th>\n",
       "      <td>Marques De Berol Semi-Sweet - Rose Wi...</td>\n",
       "      <td>\"https://www-konga-com-res.cloudinary.com/w_au...</td>\n",
       "      <td>₦1,650</td>\n",
       "    </tr>\n",
       "    <tr>\n",
       "      <th>4</th>\n",
       "      <td>Marques De Berol Semi-Sweet - Red Win...</td>\n",
       "      <td>\"https://www-konga-com-res.cloudinary.com/w_au...</td>\n",
       "      <td>₦1,650</td>\n",
       "    </tr>\n",
       "  </tbody>\n",
       "</table>\n",
       "</div>"
      ],
      "text/plain": [
       "                                       Name  \\\n",
       "0  (castillo De Espana) Tempranillo Garn...   \n",
       "1  Blossom Hill Soft & Fruity Red Wine 7...   \n",
       "2  Ocean Beach California Red Wine 750ml...   \n",
       "3  Marques De Berol Semi-Sweet - Rose Wi...   \n",
       "4  Marques De Berol Semi-Sweet - Red Win...   \n",
       "\n",
       "                                               Image   Price  \n",
       "0  \"https://www-konga-com-res.cloudinary.com/w_au...  ₦1,110  \n",
       "1  \"https://www-konga-com-res.cloudinary.com/w_au...  ₦1,110  \n",
       "2  \"https://www-konga-com-res.cloudinary.com/w_au...  ₦1,110  \n",
       "3  \"https://www-konga-com-res.cloudinary.com/w_au...  ₦1,650  \n",
       "4  \"https://www-konga-com-res.cloudinary.com/w_au...  ₦1,650  "
      ]
     },
     "execution_count": 10,
     "metadata": {},
     "output_type": "execute_result"
    }
   ],
   "source": [
    "konga_df2 = pd.read_csv(\"Kongaa.csv\")\n",
    "konga_df2.head()"
   ]
  },
  {
   "cell_type": "code",
   "execution_count": 11,
   "metadata": {},
   "outputs": [
    {
     "data": {
      "text/plain": [
       "(68, 3)"
      ]
     },
     "execution_count": 11,
     "metadata": {},
     "output_type": "execute_result"
    }
   ],
   "source": [
    "konga_df2.shape"
   ]
  },
  {
   "cell_type": "code",
   "execution_count": 13,
   "metadata": {},
   "outputs": [
    {
     "data": {
      "text/plain": [
       "(91, 3)"
      ]
     },
     "execution_count": 13,
     "metadata": {},
     "output_type": "execute_result"
    }
   ],
   "source": [
    "konga_df = konga_df2.append(konga_df1)\n",
    "konga_df.shape"
   ]
  },
  {
   "cell_type": "code",
   "execution_count": 15,
   "metadata": {},
   "outputs": [
    {
     "data": {
      "text/plain": [
       "Name     91\n",
       "Image    91\n",
       "Price    61\n",
       "dtype: int64"
      ]
     },
     "execution_count": 15,
     "metadata": {},
     "output_type": "execute_result"
    }
   ],
   "source": [
    "konga_df.nunique()"
   ]
  },
  {
   "cell_type": "code",
   "execution_count": 16,
   "metadata": {},
   "outputs": [
    {
     "data": {
      "text/plain": [
       "(91, 3)"
      ]
     },
     "execution_count": 16,
     "metadata": {},
     "output_type": "execute_result"
    }
   ],
   "source": [
    "konga_df.drop_duplicates(inplace=True)\n",
    "konga_df.shape"
   ]
  },
  {
   "cell_type": "code",
   "execution_count": null,
   "metadata": {},
   "outputs": [],
   "source": []
  },
  {
   "cell_type": "code",
   "execution_count": 17,
   "metadata": {},
   "outputs": [],
   "source": [
    "konga_df.to_csv(\"Kongaa.csv\", index=False)"
   ]
  },
  {
   "cell_type": "code",
   "execution_count": null,
   "metadata": {},
   "outputs": [],
   "source": []
  }
 ],
 "metadata": {
  "hide_input": false,
  "kernelspec": {
   "display_name": "scrapy",
   "language": "python",
   "name": "scrapy"
  },
  "language_info": {
   "codemirror_mode": {
    "name": "ipython",
    "version": 3
   },
   "file_extension": ".py",
   "mimetype": "text/x-python",
   "name": "python",
   "nbconvert_exporter": "python",
   "pygments_lexer": "ipython3",
   "version": "3.7.6"
  },
  "toc": {
   "base_numbering": 1,
   "nav_menu": {},
   "number_sections": true,
   "sideBar": true,
   "skip_h1_title": false,
   "title_cell": "Table of Contents",
   "title_sidebar": "Contents",
   "toc_cell": false,
   "toc_position": {},
   "toc_section_display": true,
   "toc_window_display": false
  }
 },
 "nbformat": 4,
 "nbformat_minor": 4
}
