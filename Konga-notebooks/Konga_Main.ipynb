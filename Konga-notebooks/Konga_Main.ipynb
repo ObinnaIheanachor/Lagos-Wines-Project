{
 "cells": [
  {
   "cell_type": "code",
   "execution_count": null,
   "metadata": {},
   "outputs": [],
   "source": [
    "# https://www.konga.com/category/wines-2004?page=2\n",
    "# class=\"bbe45_3oExY _22339_3gQb9\" container\n",
    "# li class=\"bbe45_3oExY _22339_3gQb9\">\n",
    "# <img data-expand=\"100\" data-src=\" image\n",
    "# <span class=\"d7c0f_sJAqi\"> price\n",
    "# <h3> name of wine \n",
    "# class=\"f5e10_VzEXF _59c59_3-MyH lazyloaded \""
   ]
  },
  {
   "cell_type": "code",
   "execution_count": 1,
   "metadata": {},
   "outputs": [
    {
     "name": "stdout",
     "output_type": "stream",
     "text": [
      "end of page 0\n",
      "end of page 1\n",
      "end of page 2\n",
      "end of page 3\n",
      "[['(castillo De Espana) Tempranillo Garn...', '\"https://www-konga-com-res.cloudinary.com/w_auto,f_auto,fl_lossy,dpr_auto,q_auto/media/catalog/product/K/Y/118566_1567080314.jpg\"', '₦1,110'], ['Blossom Hill Soft & Fruity Red Wine 7...', '\"https://www-konga-com-res.cloudinary.com/w_auto,f_auto,fl_lossy,dpr_auto,q_auto/media/catalog/product/W/M/118566_1567079601.jpg\"', '₦1,110'], ['Ocean Beach California Red Wine 750ml...', '\"https://www-konga-com-res.cloudinary.com/w_auto,f_auto,fl_lossy,dpr_auto,q_auto/media/catalog/product/F/N/_1570462255.jpg\"', '₦1,110'], ['Marques De Berol Semi-Sweet - Rose Wi...', '\"https://www-konga-com-res.cloudinary.com/w_auto,f_auto,fl_lossy,dpr_auto,q_auto/media/catalog/product/I/I/162095_1571950427.jpg\"', '₦1,650'], ['Marques De Berol Semi-Sweet - Red Win...', '\"https://www-konga-com-res.cloudinary.com/w_auto,f_auto,fl_lossy,dpr_auto,q_auto/media/catalog/product/U/Z/162095_1571946796.jpg\"', '₦1,650'], ['Marques De Berol Semi-Sweet - White W...', '\"https://www-konga-com-res.cloudinary.com/w_auto,f_auto,fl_lossy,dpr_auto,q_auto/media/catalog/product/M/F/162095_1571945808.jpg\"', '₦1,650'], ['Marques De Berol - White Wine Macabeo...', '\"https://www-konga-com-res.cloudinary.com/w_auto,f_auto,fl_lossy,dpr_auto,q_auto/media/catalog/product/S/A/162095_1571945002.jpg\"', '₦1,650'], ['Carlo Rossi Ice Peach', '\"https://www-konga-com-res.cloudinary.com/w_auto,f_auto,fl_lossy,dpr_auto,q_auto/media/catalog/product/M/D/118566_1570532252.jpg\"', '₦2,000'], ['Nederburg Cabernet Sauvignon Red Wine...', '\"https://www-konga-com-res.cloudinary.com/w_auto,f_auto,fl_lossy,dpr_auto,q_auto/media/catalog/product/E/W/1_1523536166.jpg\"', '₦4,080'], ['B & G Cuvee Special White - 75cl  12....', '\"https://www-konga-com-res.cloudinary.com/w_auto,f_auto,fl_lossy,dpr_auto,q_auto/media/catalog/product/E/R/_1532682350.jpg\"', '₦1,660'], ['B & G Cuvee Speciale Nature Sweet 75c...', '\"https://www-konga-com-res.cloudinary.com/w_auto,f_auto,fl_lossy,dpr_auto,q_auto/media/catalog/product/Y/D/_1525274936.jpg\"', '₦1,660'], ['B & G Cuvee Speciale - Red - 75cl - 1...', '\"https://www-konga-com-res.cloudinary.com/w_auto,f_auto,fl_lossy,dpr_auto,q_auto/media/catalog/product/O/C/_1525356858.jpg\"', '₦1,660'], ['Carlo Rossi Sweet Red - 75cl - 9% acl...', '\"https://www-konga-com-res.cloudinary.com/w_auto,f_auto,fl_lossy,dpr_auto,q_auto/media/catalog/product/P/V/118566_1523870329.jpg\"', '₦2,000'], ['Segura Viudas Vina Heredad Blanco  Wh...', '\"https://www-konga-com-res.cloudinary.com/w_auto,f_auto,fl_lossy,dpr_auto,q_auto/media/catalog/product/B/D/1_1521561159.jpg\"', '₦1,820'], ['Frontera Sauvignon-blanc', '\"https://www-konga-com-res.cloudinary.com/w_auto,f_auto,fl_lossy,dpr_auto,q_auto/media/catalog/product/O/D/118566_1532689328.jpg\"', '₦1,880'], ['Andre Brut - 75cl, 10.45% Acl', '\"https://www-konga-com-res.cloudinary.com/w_auto,f_auto,fl_lossy,dpr_auto,q_auto/media/catalog/product/H/R/118566_1521727149.jpg\"', '₦2,500'], ['Carlo Rossi White - 75cl  9.50% acl.-...', '\"https://www-konga-com-res.cloudinary.com/w_auto,f_auto,fl_lossy,dpr_auto,q_auto/media/catalog/product/X/V/_1530891758.jpg\"', '₦2,000'], ['Nederburg Chardonnay  White Wine 75cl...', '\"https://www-konga-com-res.cloudinary.com/w_auto,f_auto,fl_lossy,dpr_auto,q_auto/media/catalog/product/R/O/1_1523536164.jpg\"', '₦3,420'], ['B & G Thomas Barton Graves 2016 AOC -...', '\"https://www-konga-com-res.cloudinary.com/w_auto,f_auto,fl_lossy,dpr_auto,q_auto/media/catalog/product/P/V/1_1521561098.jpg\"', '₦4,910'], ['Ice Prestige 75cl  12% acl. (Single B...', '\"https://www-konga-com-res.cloudinary.com/w_auto,f_auto,fl_lossy,dpr_auto,q_auto/media/catalog/product/J/S/_1525275104.jpg\"', '₦5,400'], ['Prosecco Spumante 75cl  11% acl. (Sin...', '\"https://www-konga-com-res.cloudinary.com/w_auto,f_auto,fl_lossy,dpr_auto,q_auto/media/catalog/product/F/G/1_1521560985.jpg\"', '₦4,280'], ['Carlo Rossi Rose - 75cl  9.50% acl. -...', '\"https://www-konga-com-res.cloudinary.com/w_auto,f_auto,fl_lossy,dpr_auto,q_auto/media/catalog/product/P/G/_1532610749.jpg\"', '₦2,000'], ['Cloudy Bay Sauvignon Blanc - New Zeal...', '\"https://www-konga-com-res.cloudinary.com/w_auto,f_auto,fl_lossy,dpr_auto,q_auto/media/catalog/product/A/J/1_1521561091.jpg\"', '₦9,150'], ['Carlo Rossi Red - 75cl  11.50% acl. -...', '\"https://www-konga-com-res.cloudinary.com/w_auto,f_auto,fl_lossy,dpr_auto,q_auto/media/catalog/product/S/W/118566_1527676380.jpg\"', '₦2,000'], ['Castillo De Espana Red Wine', '\"https://www-konga-com-res.cloudinary.com/w_auto,f_auto,fl_lossy,dpr_auto,q_auto/media/catalog/product/E/F/107690_1550171190.jpg\"', '₦7,500'], ['Chamdor Sparkling Grape Wine', '\"https://www-konga-com-res.cloudinary.com/w_auto,f_auto,fl_lossy,dpr_auto,q_auto/media/catalog/product/C/h/Chamdor-Sparkling-Grape-Wine-5792675_1.jpg\"', '₦1,798'], ['Nederburg Rose Wine 75cl, 14.47% acl....', '\"https://www-konga-com-res.cloudinary.com/w_auto,f_auto,fl_lossy,dpr_auto,q_auto/media/catalog/product/N/C/1_1523536186.jpg\"', '₦3,530'], ['Louis Roederer Brut Champagne - 750ml...', '\"https://www-konga-com-res.cloudinary.com/w_auto,f_auto,fl_lossy,dpr_auto,q_auto/media/catalog/product/B/r/Brut-Champagne---750ml-7758570.jpg\"', '₦14,600'], ['Ak Rosé  Guntrum Sparkling Wine', '\"https://www-konga-com-res.cloudinary.com/w_auto,f_auto,fl_lossy,dpr_auto,q_auto/media/catalog/product/M/V/161592_1568985335.jpg\"', '₦13,200'], ['Guntrum Sweet Red Wine', '\"https://www-konga-com-res.cloudinary.com/w_auto,f_auto,fl_lossy,dpr_auto,q_auto/media/catalog/product/E/R/161592_1568990238.jpg\"', '₦7,050'], ['Giacondi Italian Wine (12% Alcoholic)...', '\"https://www-konga-com-res.cloudinary.com/w_auto,f_auto,fl_lossy,dpr_auto,q_auto/media/catalog/product/L/Q/130472_1570412117.jpg\"', '₦7,500'], ['Laurent Perrier Demi Sec 75cl, 12% Ac...', '\"https://www-konga-com-res.cloudinary.com/w_auto,f_auto,fl_lossy,dpr_auto,q_auto/media/catalog/product/L/H/118566_1521724333.jpg\"', '₦18,190'], ['Marques De Berol White Wine Macabeo 2...', '\"https://www-konga-com-res.cloudinary.com/w_auto,f_auto,fl_lossy,dpr_auto,q_auto/media/catalog/product/X/O/162095_1571942501.jpg\"', '₦19,800'], ['Guntrum Riesling Royal Blue Bottle', '\"https://www-konga-com-res.cloudinary.com/w_auto,f_auto,fl_lossy,dpr_auto,q_auto/media/catalog/product/D/G/161592_1568989538.jpg\"', '₦6,700'], ['Chateau Ksara Reserve Du Couvent Red ...', '\"https://www-konga-com-res.cloudinary.com/w_auto,f_auto,fl_lossy,dpr_auto,q_auto/media/catalog/product/G/O/107690_1550256622.jpg\"', '₦15,000'], ['Baron Romero Red Wine -750ml', '\"https://www-konga-com-res.cloudinary.com/w_auto,f_auto,fl_lossy,dpr_auto,q_auto/media/catalog/product/E/D/146819_1546434737.jpg\"', '₦3,750'], ['Paul Cluver Reisling - 75cl - 13.50% ...', '\"https://www-konga-com-res.cloudinary.com/w_auto,f_auto,fl_lossy,dpr_auto,q_auto/media/catalog/product/V/R/_1525345177.jpg\"', '₦3,620'], ['Moet & Chandon Nectar Rose Imperial -...', '\"https://www-konga-com-res.cloudinary.com/w_auto,f_auto,fl_lossy,dpr_auto,q_auto/media/catalog/product/I/L/1_1521560989.jpg\"', '₦22,040'], ['Veuve Clicquot Clicquot Brut - 75cl  ...', '\"https://www-konga-com-res.cloudinary.com/w_auto,f_auto,fl_lossy,dpr_auto,q_auto/media/catalog/product/I/Z/1_1521560032.jpg\"', '₦18,850'], ['Marques De Berol Semi-Sweet Red Wine ...', '\"https://www-konga-com-res.cloudinary.com/w_auto,f_auto,fl_lossy,dpr_auto,q_auto/media/catalog/product/Q/U/162095_1571938823.jpg\"', '₦19,800'], ['Mapu Cabernet Sauvignon', '\"https://www-konga-com-res.cloudinary.com/w_auto,f_auto,fl_lossy,dpr_auto,q_auto/media/catalog/product/P/J/118566_1570612456.jpg\"', '₦5,460'], ['Apothic Red Wine -75cl', '\"https://www-konga-com-res.cloudinary.com/w_auto,f_auto,fl_lossy,dpr_auto,q_auto/media/catalog/product/P/G/118566_1570460873.jpg\"', '₦4,500'], ['Guntrum Ak Rosé', '\"https://www-konga-com-res.cloudinary.com/w_auto,f_auto,fl_lossy,dpr_auto,q_auto/media/catalog/product/G/N/161592_1568991886.jpg\"', '₦7,050'], ['Guntrum Ak Nola Red Non- Alcohol Wine...', '\"https://www-konga-com-res.cloudinary.com/w_auto,f_auto,fl_lossy,dpr_auto,q_auto/media/catalog/product/H/N/161592_1568991576.jpg\"', '₦7,050'], ['Guntrum Ak Nola White Non Alcohol', '\"https://www-konga-com-res.cloudinary.com/w_auto,f_auto,fl_lossy,dpr_auto,q_auto/media/catalog/product/B/A/161592_1568990603.jpg\"', '₦7,050'], ['Marry Me Rosé', '\"https://www-konga-com-res.cloudinary.com/w_auto,f_auto,fl_lossy,dpr_auto,q_auto/media/catalog/product/I/A/154604_1557828376.jpg\"', '₦2,100'], ['Mouton Cadet Cadet Bordeaux Red Wine ...', '\"https://www-konga-com-res.cloudinary.com/w_auto,f_auto,fl_lossy,dpr_auto,q_auto/media/catalog/product/N/X/1_1521561197.jpg\"', '₦5,680'], ['Frontera Cab Sauvigon 75cl  12.5% acl...', '\"https://www-konga-com-res.cloudinary.com/w_auto,f_auto,fl_lossy,dpr_auto,q_auto/media/catalog/product/A/U/_1525346154.jpg\"', '₦1,880'], ['Frontera Cabernet Blush - 75cl - 14% ...', '\"https://www-konga-com-res.cloudinary.com/w_auto,f_auto,fl_lossy,dpr_auto,q_auto/media/catalog/product/X/M/_1525357047.jpg\"', '₦1,880'], ['Marques De Berol Syrah 2017 - 750ml x...', '\"https://www-konga-com-res.cloudinary.com/w_auto,f_auto,fl_lossy,dpr_auto,q_auto/media/catalog/product/C/P/162095_1571939924.jpg\"', '₦21,000'], ['Duca Del Valentino | Rosato Secco | P...', '\"https://www-konga-com-res.cloudinary.com/w_auto,f_auto,fl_lossy,dpr_auto,q_auto/media/catalog/product/I/C/159766_1566984736.jpg\"', '₦11,000'], ['Duca Del Valentino | Bianco Secco | P...', '\"https://www-konga-com-res.cloudinary.com/w_auto,f_auto,fl_lossy,dpr_auto,q_auto/media/catalog/product/I/Y/159766_1566982670.jpg\"', '₦11,000'], ['Omikron Greek Red Wine - 750ml, 12.5%...', '\"https://www-konga-com-res.cloudinary.com/w_auto,f_auto,fl_lossy,dpr_auto,q_auto/media/catalog/product/M/Y/157598_1564180292.jpg\"', '₦27,000'], ['Dom Perignon Brut - Single Bottle', '\"https://www-konga-com-res.cloudinary.com/w_auto,f_auto,fl_lossy,dpr_auto,q_auto/media/catalog/product/D/Z/118566_1521724062.jpg\"', '₦78,790'], ['Momento D Oro 75cl  11% acl. (Single ...', '\"https://www-konga-com-res.cloudinary.com/w_auto,f_auto,fl_lossy,dpr_auto,q_auto/media/catalog/product/P/Z/1_1521561095.jpg\"', '₦5,940'], ['Spanish - 75cl   36% acl - Single Bot...', '\"https://www-konga-com-res.cloudinary.com/w_auto,f_auto,fl_lossy,dpr_auto,q_auto/media/catalog/product/U/G/_1525345526.jpg\"', '₦8,050'], ['Andre Sparkling Wine - Pink Moscato -...', '\"https://www-konga-com-res.cloudinary.com/w_auto,f_auto,fl_lossy,dpr_auto,q_auto/media/catalog/product/S/p/Sparkling-Wine---Pink-Moscato---750ml--5499072.jpg\"', '₦3,150'], ['Marques De Berol Semi-Sweet 2018 - Wh...', '\"https://www-konga-com-res.cloudinary.com/w_auto,f_auto,fl_lossy,dpr_auto,q_auto/media/catalog/product/H/W/162095_1571942173.jpg\"', '₦19,800'], ['Marques De Berol Semi-Sweet Rose Wine...', '\"https://www-konga-com-res.cloudinary.com/w_auto,f_auto,fl_lossy,dpr_auto,q_auto/media/catalog/product/C/V/162095_1571936673.jpg\"', '₦19,800'], ['Mapu Sauvignon Blanc', '\"https://www-konga-com-res.cloudinary.com/w_auto,f_auto,fl_lossy,dpr_auto,q_auto/media/catalog/product/E/P/118566_1570612239.jpg\"', '₦5,460'], ['Guntrum Dry Reisling Red Wine', '\"https://www-konga-com-res.cloudinary.com/w_auto,f_auto,fl_lossy,dpr_auto,q_auto/media/catalog/product/M/U/161592_1568989027.jpg\"', '₦8,050'], ['Guntrum Dornfelder Trocken', '\"https://www-konga-com-res.cloudinary.com/w_auto,f_auto,fl_lossy,dpr_auto,q_auto/media/catalog/product/K/T/161592_1568989949.jpg\"', '₦7,050'], ['Veuve Clicquot Clicquot Rose - 75cl 1...', '\"https://www-konga-com-res.cloudinary.com/w_auto,f_auto,fl_lossy,dpr_auto,q_auto/media/catalog/product/F/D/_1532417053.jpg\"', '₦23,370'], ['Dom Perignon  Brut Luminous 75cl  12....', '\"https://www-konga-com-res.cloudinary.com/w_auto,f_auto,fl_lossy,dpr_auto,q_auto/media/catalog/product/D/G/1_1521561157.jpg\"', '₦78,790'], ['Moet Nectar Imperial 75cl  12% acl. (...', '\"https://www-konga-com-res.cloudinary.com/w_auto,f_auto,fl_lossy,dpr_auto,q_auto/media/catalog/product/F/I/1_1521560956.jpg\"', '₦19,070'], ['Moet & Chandon  Ice Imperial - 75cl -...', '\"https://www-konga-com-res.cloudinary.com/w_auto,f_auto,fl_lossy,dpr_auto,q_auto/media/catalog/product/R/E/1_1521560946.jpg\"', '₦26,290'], ['Moet & Chandon Brut Imperial - 75cl -...', '\"https://www-konga-com-res.cloudinary.com/w_auto,f_auto,fl_lossy,dpr_auto,q_auto/media/catalog/product/U/H/1_1521560037.jpg\"', '₦16,750'], ['Carlo Rossi California Rose - 1 Bottl...', '\"https://www-konga-com-res.cloudinary.com/w_auto,f_auto,fl_lossy,dpr_auto,q_auto/media/catalog/product/T/D/167302_1586368432.jpg\"', '₦2,100']]\n"
     ]
    }
   ],
   "source": [
    "from selenium import webdriver\n",
    "from selenium.webdriver.support.ui import WebDriverWait\n",
    "from bs4 import BeautifulSoup as soup\n",
    "from time import sleep\n",
    "dic = []\n",
    "chrome_options = webdriver.ChromeOptions()\n",
    "page = 0\n",
    "def getsite(url):\n",
    "    \n",
    "    driver = webdriver.Chrome(\"C:\\Bin\\chromedriver\")\n",
    "   \n",
    "   \n",
    "\n",
    "\n",
    "    driver.get(url)\n",
    "    sleep(20)\n",
    "    html = driver.page_source\n",
    "    page_soup = soup(html, \"lxml\")\n",
    "    containers = page_soup.findAll('li',{'class':'bbe45_3oExY _22339_3gQb9'})\n",
    "    num = 0\n",
    "    for i in containers:\n",
    "        name = i.find('h3')\n",
    "        je= str(i.find('img'))\n",
    "        j = je.rfind('src')\n",
    "        price = i.find(\"span\",{\"class\":\"d7c0f_sJAqi\"}) \n",
    "        if name != None:\n",
    "            dic.append([name.text.strip('\\n'),je[j+4:].strip('/>'),price.text.strip('\\n')])\n",
    "            \n",
    "            #print()\n",
    "            #print(bedetc.text.split())\n",
    "            #num = num + 1\n",
    "            \n",
    "    driver.close()\n",
    "            \n",
    "    \n",
    "    \n",
    "    \n",
    "urll = 'https://www.konga.com/category/wines-2004'\n",
    "\n",
    "for ur in range(1,5):\n",
    "    url = urll + '?page=' + str(ur) \n",
    "    getsite(url)\n",
    "    print('end of page',page)\n",
    "    page = page + 1\n",
    "    \n",
    "\n",
    "print(dic)"
   ]
  },
  {
   "cell_type": "code",
   "execution_count": 2,
   "metadata": {},
   "outputs": [],
   "source": [
    "import pandas as pd\n",
    "konga_df = pd.DataFrame(dic)"
   ]
  },
  {
   "cell_type": "code",
   "execution_count": 3,
   "metadata": {},
   "outputs": [
    {
     "data": {
      "text/html": [
       "<div>\n",
       "<style scoped>\n",
       "    .dataframe tbody tr th:only-of-type {\n",
       "        vertical-align: middle;\n",
       "    }\n",
       "\n",
       "    .dataframe tbody tr th {\n",
       "        vertical-align: top;\n",
       "    }\n",
       "\n",
       "    .dataframe thead th {\n",
       "        text-align: right;\n",
       "    }\n",
       "</style>\n",
       "<table border=\"1\" class=\"dataframe\">\n",
       "  <thead>\n",
       "    <tr style=\"text-align: right;\">\n",
       "      <th></th>\n",
       "      <th>0</th>\n",
       "      <th>1</th>\n",
       "      <th>2</th>\n",
       "    </tr>\n",
       "  </thead>\n",
       "  <tbody>\n",
       "    <tr>\n",
       "      <th>0</th>\n",
       "      <td>(castillo De Espana) Tempranillo Garn...</td>\n",
       "      <td>\"https://www-konga-com-res.cloudinary.com/w_au...</td>\n",
       "      <td>₦1,110</td>\n",
       "    </tr>\n",
       "    <tr>\n",
       "      <th>1</th>\n",
       "      <td>Blossom Hill Soft &amp; Fruity Red Wine 7...</td>\n",
       "      <td>\"https://www-konga-com-res.cloudinary.com/w_au...</td>\n",
       "      <td>₦1,110</td>\n",
       "    </tr>\n",
       "    <tr>\n",
       "      <th>2</th>\n",
       "      <td>Ocean Beach California Red Wine 750ml...</td>\n",
       "      <td>\"https://www-konga-com-res.cloudinary.com/w_au...</td>\n",
       "      <td>₦1,110</td>\n",
       "    </tr>\n",
       "    <tr>\n",
       "      <th>3</th>\n",
       "      <td>Marques De Berol Semi-Sweet - Rose Wi...</td>\n",
       "      <td>\"https://www-konga-com-res.cloudinary.com/w_au...</td>\n",
       "      <td>₦1,650</td>\n",
       "    </tr>\n",
       "    <tr>\n",
       "      <th>4</th>\n",
       "      <td>Marques De Berol Semi-Sweet - Red Win...</td>\n",
       "      <td>\"https://www-konga-com-res.cloudinary.com/w_au...</td>\n",
       "      <td>₦1,650</td>\n",
       "    </tr>\n",
       "  </tbody>\n",
       "</table>\n",
       "</div>"
      ],
      "text/plain": [
       "                                          0  \\\n",
       "0  (castillo De Espana) Tempranillo Garn...   \n",
       "1  Blossom Hill Soft & Fruity Red Wine 7...   \n",
       "2  Ocean Beach California Red Wine 750ml...   \n",
       "3  Marques De Berol Semi-Sweet - Rose Wi...   \n",
       "4  Marques De Berol Semi-Sweet - Red Win...   \n",
       "\n",
       "                                                   1       2  \n",
       "0  \"https://www-konga-com-res.cloudinary.com/w_au...  ₦1,110  \n",
       "1  \"https://www-konga-com-res.cloudinary.com/w_au...  ₦1,110  \n",
       "2  \"https://www-konga-com-res.cloudinary.com/w_au...  ₦1,110  \n",
       "3  \"https://www-konga-com-res.cloudinary.com/w_au...  ₦1,650  \n",
       "4  \"https://www-konga-com-res.cloudinary.com/w_au...  ₦1,650  "
      ]
     },
     "execution_count": 3,
     "metadata": {},
     "output_type": "execute_result"
    }
   ],
   "source": [
    "konga_df.head()"
   ]
  },
  {
   "cell_type": "code",
   "execution_count": 4,
   "metadata": {},
   "outputs": [],
   "source": [
    "konga_df.columns = ['Name','Image','Price']"
   ]
  },
  {
   "cell_type": "code",
   "execution_count": 5,
   "metadata": {},
   "outputs": [
    {
     "data": {
      "text/html": [
       "<div>\n",
       "<style scoped>\n",
       "    .dataframe tbody tr th:only-of-type {\n",
       "        vertical-align: middle;\n",
       "    }\n",
       "\n",
       "    .dataframe tbody tr th {\n",
       "        vertical-align: top;\n",
       "    }\n",
       "\n",
       "    .dataframe thead th {\n",
       "        text-align: right;\n",
       "    }\n",
       "</style>\n",
       "<table border=\"1\" class=\"dataframe\">\n",
       "  <thead>\n",
       "    <tr style=\"text-align: right;\">\n",
       "      <th></th>\n",
       "      <th>Name</th>\n",
       "      <th>Image</th>\n",
       "      <th>Price</th>\n",
       "    </tr>\n",
       "  </thead>\n",
       "  <tbody>\n",
       "    <tr>\n",
       "      <th>0</th>\n",
       "      <td>(castillo De Espana) Tempranillo Garn...</td>\n",
       "      <td>\"https://www-konga-com-res.cloudinary.com/w_au...</td>\n",
       "      <td>₦1,110</td>\n",
       "    </tr>\n",
       "    <tr>\n",
       "      <th>1</th>\n",
       "      <td>Blossom Hill Soft &amp; Fruity Red Wine 7...</td>\n",
       "      <td>\"https://www-konga-com-res.cloudinary.com/w_au...</td>\n",
       "      <td>₦1,110</td>\n",
       "    </tr>\n",
       "    <tr>\n",
       "      <th>2</th>\n",
       "      <td>Ocean Beach California Red Wine 750ml...</td>\n",
       "      <td>\"https://www-konga-com-res.cloudinary.com/w_au...</td>\n",
       "      <td>₦1,110</td>\n",
       "    </tr>\n",
       "    <tr>\n",
       "      <th>3</th>\n",
       "      <td>Marques De Berol Semi-Sweet - Rose Wi...</td>\n",
       "      <td>\"https://www-konga-com-res.cloudinary.com/w_au...</td>\n",
       "      <td>₦1,650</td>\n",
       "    </tr>\n",
       "    <tr>\n",
       "      <th>4</th>\n",
       "      <td>Marques De Berol Semi-Sweet - Red Win...</td>\n",
       "      <td>\"https://www-konga-com-res.cloudinary.com/w_au...</td>\n",
       "      <td>₦1,650</td>\n",
       "    </tr>\n",
       "  </tbody>\n",
       "</table>\n",
       "</div>"
      ],
      "text/plain": [
       "                                       Name  \\\n",
       "0  (castillo De Espana) Tempranillo Garn...   \n",
       "1  Blossom Hill Soft & Fruity Red Wine 7...   \n",
       "2  Ocean Beach California Red Wine 750ml...   \n",
       "3  Marques De Berol Semi-Sweet - Rose Wi...   \n",
       "4  Marques De Berol Semi-Sweet - Red Win...   \n",
       "\n",
       "                                               Image   Price  \n",
       "0  \"https://www-konga-com-res.cloudinary.com/w_au...  ₦1,110  \n",
       "1  \"https://www-konga-com-res.cloudinary.com/w_au...  ₦1,110  \n",
       "2  \"https://www-konga-com-res.cloudinary.com/w_au...  ₦1,110  \n",
       "3  \"https://www-konga-com-res.cloudinary.com/w_au...  ₦1,650  \n",
       "4  \"https://www-konga-com-res.cloudinary.com/w_au...  ₦1,650  "
      ]
     },
     "execution_count": 5,
     "metadata": {},
     "output_type": "execute_result"
    }
   ],
   "source": [
    "konga_df.head()"
   ]
  },
  {
   "cell_type": "code",
   "execution_count": 6,
   "metadata": {},
   "outputs": [],
   "source": [
    "konga_df.to_csv(\"Konga.csv\", index=False)"
   ]
  },
  {
   "cell_type": "code",
   "execution_count": null,
   "metadata": {},
   "outputs": [],
   "source": []
  }
 ],
 "metadata": {
  "hide_input": false,
  "kernelspec": {
   "display_name": "scrapy",
   "language": "python",
   "name": "scrapy"
  },
  "language_info": {
   "codemirror_mode": {
    "name": "ipython",
    "version": 3
   },
   "file_extension": ".py",
   "mimetype": "text/x-python",
   "name": "python",
   "nbconvert_exporter": "python",
   "pygments_lexer": "ipython3",
   "version": "3.7.6"
  },
  "toc": {
   "base_numbering": 1,
   "nav_menu": {},
   "number_sections": true,
   "sideBar": true,
   "skip_h1_title": false,
   "title_cell": "Table of Contents",
   "title_sidebar": "Contents",
   "toc_cell": false,
   "toc_position": {},
   "toc_section_display": true,
   "toc_window_display": false
  }
 },
 "nbformat": 4,
 "nbformat_minor": 4
}
