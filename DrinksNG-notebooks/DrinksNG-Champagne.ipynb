{
 "cells": [
  {
   "cell_type": "code",
   "execution_count": 1,
   "metadata": {},
   "outputs": [],
   "source": [
    "#Import tools\n",
    "\n",
    "import requests\n",
    "from requests import get\n",
    "from bs4 import BeautifulSoup\n",
    "import pandas as pd\n",
    "import numpy as np\n",
    "\n",
    "from time import sleep\n",
    "from random import randint"
   ]
  },
  {
   "cell_type": "code",
   "execution_count": 3,
   "metadata": {},
   "outputs": [
    {
     "data": {
      "text/plain": [
       "array([1, 2, 3, 4, 5, 6, 7, 8])"
      ]
     },
     "execution_count": 3,
     "metadata": {},
     "output_type": "execute_result"
    }
   ],
   "source": [
    "pages = np.arange(1, 9, 1)\n",
    "pages"
   ]
  },
  {
   "cell_type": "code",
   "execution_count": null,
   "metadata": {},
   "outputs": [],
   "source": []
  },
  {
   "cell_type": "code",
   "execution_count": null,
   "metadata": {},
   "outputs": [],
   "source": []
  },
  {
   "cell_type": "code",
   "execution_count": 4,
   "metadata": {},
   "outputs": [],
   "source": [
    "#initialize empty lists where we'll store our data\n",
    "images = []\n",
    "names = []\n",
    "price = []"
   ]
  },
  {
   "cell_type": "code",
   "execution_count": null,
   "metadata": {},
   "outputs": [],
   "source": [
    "images"
   ]
  },
  {
   "cell_type": "code",
   "execution_count": null,
   "metadata": {},
   "outputs": [],
   "source": [
    "https://www.drinks.ng/shop/champagne/page/2/"
   ]
  },
  {
   "cell_type": "code",
   "execution_count": 5,
   "metadata": {},
   "outputs": [],
   "source": [
    "for page in pages: \n",
    "\n",
    "  page = requests.get(\"https://www.drinks.ng/shop/champagne/page/\" + str(page) + \"/\")\n",
    "\n",
    "  soup = BeautifulSoup(page.text, 'html.parser')\n",
    "  wine_div = soup.find_all('div', class_= \"prod\")\n",
    "  wine_div2 = soup.find_all('div', class_= \"content-exta col-lg-3 col-md-12\")\n",
    "  sleep(randint(2,10))\n",
    "\n",
    "  for container1, container2 in zip(wine_div, wine_div2):\n",
    "      name = container1.div.find(\"h4\", class_=\"woocommerce-loop-product__title title\").text\n",
    "      names.append(name)\n",
    "\n",
    "      image = container1.div.find(\"a\", class_=\"woocommerce-LoopProduct-link woocommerce-loop-product__link\").img[\"src\"]\n",
    "      images.append(image)\n",
    "        \n",
    "      cost = container2.find(\"span\", class_=\"woocommerce-Price-amount amount\").text\n",
    "      price.append(cost)"
   ]
  },
  {
   "cell_type": "code",
   "execution_count": null,
   "metadata": {},
   "outputs": [],
   "source": []
  },
  {
   "cell_type": "code",
   "execution_count": null,
   "metadata": {},
   "outputs": [],
   "source": [
    "## Explanation of the ZIP function\n",
    "\n",
    "a = [1,2,3,4,5]\n",
    "b = [6,7,8,9,10]\n",
    "\n",
    "for x,y in zip(a,b):\n",
    "    print(x+y)"
   ]
  },
  {
   "cell_type": "code",
   "execution_count": null,
   "metadata": {},
   "outputs": [],
   "source": [
    "price"
   ]
  },
  {
   "cell_type": "code",
   "execution_count": null,
   "metadata": {},
   "outputs": [],
   "source": [
    "print(cost)"
   ]
  },
  {
   "cell_type": "code",
   "execution_count": 6,
   "metadata": {},
   "outputs": [
    {
     "name": "stdout",
     "output_type": "stream",
     "text": [
      "94\n",
      "94\n",
      "94\n"
     ]
    }
   ],
   "source": [
    "print(len(names))\n",
    "print(len(images))\n",
    "print(len(price))"
   ]
  },
  {
   "cell_type": "code",
   "execution_count": 7,
   "metadata": {},
   "outputs": [
    {
     "data": {
      "text/html": [
       "<div>\n",
       "<style scoped>\n",
       "    .dataframe tbody tr th:only-of-type {\n",
       "        vertical-align: middle;\n",
       "    }\n",
       "\n",
       "    .dataframe tbody tr th {\n",
       "        vertical-align: top;\n",
       "    }\n",
       "\n",
       "    .dataframe thead th {\n",
       "        text-align: right;\n",
       "    }\n",
       "</style>\n",
       "<table border=\"1\" class=\"dataframe\">\n",
       "  <thead>\n",
       "    <tr style=\"text-align: right;\">\n",
       "      <th></th>\n",
       "      <th>Name</th>\n",
       "      <th>Images</th>\n",
       "      <th>Price</th>\n",
       "    </tr>\n",
       "  </thead>\n",
       "  <tbody>\n",
       "    <tr>\n",
       "      <th>0</th>\n",
       "      <td>Mini Moet &amp; Chandon Imperial Brut Champagne -20CL</td>\n",
       "      <td>https://www.drinks.ng/wp-content/uploads/2019/...</td>\n",
       "      <td>₦4,400</td>\n",
       "    </tr>\n",
       "    <tr>\n",
       "      <th>1</th>\n",
       "      <td>Taittinger Demi Sec -75CL</td>\n",
       "      <td>https://www.drinks.ng/wp-content/uploads/2019/...</td>\n",
       "      <td>₦14,950</td>\n",
       "    </tr>\n",
       "    <tr>\n",
       "      <th>2</th>\n",
       "      <td>Laurent Perrier Demi Sec -75CL</td>\n",
       "      <td>https://www.drinks.ng/wp-content/uploads/2019/...</td>\n",
       "      <td>₦17,700</td>\n",
       "    </tr>\n",
       "    <tr>\n",
       "      <th>3</th>\n",
       "      <td>Moet &amp; Chandon Ice Imperial -75CL</td>\n",
       "      <td>https://www.drinks.ng/wp-content/uploads/2019/...</td>\n",
       "      <td>₦26,700</td>\n",
       "    </tr>\n",
       "    <tr>\n",
       "      <th>4</th>\n",
       "      <td>Veuve Clicquot Brut -75CL (x6Bottles)</td>\n",
       "      <td>https://www.drinks.ng/wp-content/uploads/2019/...</td>\n",
       "      <td>₦105,000</td>\n",
       "    </tr>\n",
       "  </tbody>\n",
       "</table>\n",
       "</div>"
      ],
      "text/plain": [
       "                                                Name  \\\n",
       "0  Mini Moet & Chandon Imperial Brut Champagne -20CL   \n",
       "1                          Taittinger Demi Sec -75CL   \n",
       "2                     Laurent Perrier Demi Sec -75CL   \n",
       "3                  Moet & Chandon Ice Imperial -75CL   \n",
       "4              Veuve Clicquot Brut -75CL (x6Bottles)   \n",
       "\n",
       "                                              Images     Price  \n",
       "0  https://www.drinks.ng/wp-content/uploads/2019/...    ₦4,400  \n",
       "1  https://www.drinks.ng/wp-content/uploads/2019/...   ₦14,950  \n",
       "2  https://www.drinks.ng/wp-content/uploads/2019/...   ₦17,700  \n",
       "3  https://www.drinks.ng/wp-content/uploads/2019/...   ₦26,700  \n",
       "4  https://www.drinks.ng/wp-content/uploads/2019/...  ₦105,000  "
      ]
     },
     "execution_count": 7,
     "metadata": {},
     "output_type": "execute_result"
    }
   ],
   "source": [
    "drinks_ng_df1 = pd.DataFrame({\"Name\":names, \"Images\": images, \"Price\": price})\n",
    "drinks_ng_df1.head()"
   ]
  },
  {
   "cell_type": "code",
   "execution_count": 8,
   "metadata": {},
   "outputs": [
    {
     "data": {
      "text/html": [
       "<div>\n",
       "<style scoped>\n",
       "    .dataframe tbody tr th:only-of-type {\n",
       "        vertical-align: middle;\n",
       "    }\n",
       "\n",
       "    .dataframe tbody tr th {\n",
       "        vertical-align: top;\n",
       "    }\n",
       "\n",
       "    .dataframe thead th {\n",
       "        text-align: right;\n",
       "    }\n",
       "</style>\n",
       "<table border=\"1\" class=\"dataframe\">\n",
       "  <thead>\n",
       "    <tr style=\"text-align: right;\">\n",
       "      <th></th>\n",
       "      <th>Name</th>\n",
       "      <th>Images</th>\n",
       "      <th>Price</th>\n",
       "    </tr>\n",
       "  </thead>\n",
       "  <tbody>\n",
       "    <tr>\n",
       "      <th>0</th>\n",
       "      <td>Carlo Rossi Sweet Red -75CL</td>\n",
       "      <td>https://www.drinks.ng/wp-content/uploads/2019/...</td>\n",
       "      <td>₦1,740</td>\n",
       "    </tr>\n",
       "    <tr>\n",
       "      <th>1</th>\n",
       "      <td>Apothic Red Wine -75CL</td>\n",
       "      <td>https://www.drinks.ng/wp-content/uploads/2019/...</td>\n",
       "      <td>₦3,330</td>\n",
       "    </tr>\n",
       "    <tr>\n",
       "      <th>2</th>\n",
       "      <td>Chamdor Sparkling Grape – 75CL</td>\n",
       "      <td>https://www.drinks.ng/wp-content/uploads/2020/...</td>\n",
       "      <td>₦1,450</td>\n",
       "    </tr>\n",
       "    <tr>\n",
       "      <th>3</th>\n",
       "      <td>Lamothe Parrot Classic Red -75CL</td>\n",
       "      <td>https://www.drinks.ng/wp-content/uploads/2019/...</td>\n",
       "      <td>₦1,310</td>\n",
       "    </tr>\n",
       "    <tr>\n",
       "      <th>4</th>\n",
       "      <td>Agor Red Wine -75CL (x6Bottles)</td>\n",
       "      <td>https://www.drinks.ng/wp-content/uploads/2019/...</td>\n",
       "      <td>₦10,400</td>\n",
       "    </tr>\n",
       "  </tbody>\n",
       "</table>\n",
       "</div>"
      ],
      "text/plain": [
       "                               Name  \\\n",
       "0       Carlo Rossi Sweet Red -75CL   \n",
       "1            Apothic Red Wine -75CL   \n",
       "2    Chamdor Sparkling Grape – 75CL   \n",
       "3  Lamothe Parrot Classic Red -75CL   \n",
       "4   Agor Red Wine -75CL (x6Bottles)   \n",
       "\n",
       "                                              Images    Price  \n",
       "0  https://www.drinks.ng/wp-content/uploads/2019/...   ₦1,740  \n",
       "1  https://www.drinks.ng/wp-content/uploads/2019/...   ₦3,330  \n",
       "2  https://www.drinks.ng/wp-content/uploads/2020/...   ₦1,450  \n",
       "3  https://www.drinks.ng/wp-content/uploads/2019/...   ₦1,310  \n",
       "4  https://www.drinks.ng/wp-content/uploads/2019/...  ₦10,400  "
      ]
     },
     "execution_count": 8,
     "metadata": {},
     "output_type": "execute_result"
    }
   ],
   "source": [
    "drinks_ng_df2 = pd.read_csv(\"Drinks_Ng.csv\")\n",
    "drinks_ng_df2.head()"
   ]
  },
  {
   "cell_type": "code",
   "execution_count": 9,
   "metadata": {},
   "outputs": [
    {
     "data": {
      "text/plain": [
       "(271, 3)"
      ]
     },
     "execution_count": 9,
     "metadata": {},
     "output_type": "execute_result"
    }
   ],
   "source": [
    "drinks_ng_df2.shape"
   ]
  },
  {
   "cell_type": "code",
   "execution_count": 10,
   "metadata": {},
   "outputs": [
    {
     "data": {
      "text/plain": [
       "(365, 3)"
      ]
     },
     "execution_count": 10,
     "metadata": {},
     "output_type": "execute_result"
    }
   ],
   "source": [
    "drinks_ng_df = drinks_ng_df2.append(drinks_ng_df1)\n",
    "drinks_ng_df.shape\n"
   ]
  },
  {
   "cell_type": "code",
   "execution_count": 11,
   "metadata": {},
   "outputs": [
    {
     "data": {
      "text/plain": [
       "Name      364\n",
       "Images    266\n",
       "Price     248\n",
       "dtype: int64"
      ]
     },
     "execution_count": 11,
     "metadata": {},
     "output_type": "execute_result"
    }
   ],
   "source": [
    "drinks_ng_df.nunique()"
   ]
  },
  {
   "cell_type": "code",
   "execution_count": 12,
   "metadata": {},
   "outputs": [
    {
     "data": {
      "text/plain": [
       "(365, 3)"
      ]
     },
     "execution_count": 12,
     "metadata": {},
     "output_type": "execute_result"
    }
   ],
   "source": [
    "drinks_ng_df.drop_duplicates(inplace=True)\n",
    "drinks_ng_df.shape"
   ]
  },
  {
   "cell_type": "code",
   "execution_count": 13,
   "metadata": {},
   "outputs": [
    {
     "data": {
      "text/plain": [
       "Name      0\n",
       "Images    0\n",
       "Price     0\n",
       "dtype: int64"
      ]
     },
     "execution_count": 13,
     "metadata": {},
     "output_type": "execute_result"
    }
   ],
   "source": [
    "drinks_ng_df.isna().sum()"
   ]
  },
  {
   "cell_type": "code",
   "execution_count": 14,
   "metadata": {},
   "outputs": [],
   "source": [
    "drinks_ng_df.to_csv(\"Drinks_Ng.csv\", index=False)"
   ]
  },
  {
   "cell_type": "code",
   "execution_count": null,
   "metadata": {},
   "outputs": [],
   "source": []
  }
 ],
 "metadata": {
  "hide_input": false,
  "kernelspec": {
   "display_name": "scrapy",
   "language": "python",
   "name": "scrapy"
  },
  "language_info": {
   "codemirror_mode": {
    "name": "ipython",
    "version": 3
   },
   "file_extension": ".py",
   "mimetype": "text/x-python",
   "name": "python",
   "nbconvert_exporter": "python",
   "pygments_lexer": "ipython3",
   "version": "3.7.6"
  },
  "toc": {
   "base_numbering": 1,
   "nav_menu": {},
   "number_sections": true,
   "sideBar": true,
   "skip_h1_title": false,
   "title_cell": "Table of Contents",
   "title_sidebar": "Contents",
   "toc_cell": false,
   "toc_position": {},
   "toc_section_display": true,
   "toc_window_display": false
  }
 },
 "nbformat": 4,
 "nbformat_minor": 2
}
